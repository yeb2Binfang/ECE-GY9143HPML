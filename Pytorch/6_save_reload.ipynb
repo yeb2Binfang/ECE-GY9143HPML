{
  "nbformat": 4,
  "nbformat_minor": 0,
  "metadata": {
    "colab": {
      "name": "6-save_reload.ipynb",
      "provenance": [],
      "authorship_tag": "ABX9TyPoo7yzEI+NYUrLLeiZgqG1",
      "include_colab_link": true
    },
    "kernelspec": {
      "name": "python3",
      "display_name": "Python 3"
    },
    "language_info": {
      "name": "python"
    }
  },
  "cells": [
    {
      "cell_type": "markdown",
      "metadata": {
        "id": "view-in-github",
        "colab_type": "text"
      },
      "source": [
        "<a href=\"https://colab.research.google.com/github/yeb2Binfang/ECE-GY9143HPML/blob/main/Pytorch/6_save_reload.ipynb\" target=\"_parent\"><img src=\"https://colab.research.google.com/assets/colab-badge.svg\" alt=\"Open In Colab\"/></a>"
      ]
    },
    {
      "cell_type": "code",
      "execution_count": 4,
      "metadata": {
        "id": "8UwPKmIGhe2N"
      },
      "outputs": [],
      "source": [
        "import torch\n",
        "import matplotlib.pyplot as plt\n",
        "from torch.autograd import Variable"
      ]
    },
    {
      "cell_type": "code",
      "source": [
        "# fake data\n",
        "x = torch.unsqueeze(torch.linspace(-1, 1, 100), dim = 1) # x data (tensor), shape = (100, 1)\n",
        "y = x.pow(2) + 0.2 * torch.rand(x.size()) # noisy y data (tensor), shape = (100, 1)"
      ],
      "metadata": {
        "id": "6WhDqOyMHyG-"
      },
      "execution_count": 2,
      "outputs": []
    },
    {
      "cell_type": "code",
      "source": [
        "x, y = Variable(x, requires_grad = False), Variable(y, requires_grad = False)"
      ],
      "metadata": {
        "id": "xPCX_z-sIGRK"
      },
      "execution_count": 5,
      "outputs": []
    },
    {
      "cell_type": "code",
      "source": [
        "plt.scatter(x, y)"
      ],
      "metadata": {
        "colab": {
          "base_uri": "https://localhost:8080/",
          "height": 282
        },
        "id": "ZeEOa5LSIUas",
        "outputId": "e41a894d-ec96-48e5-d276-07f50d8c6711"
      },
      "execution_count": 6,
      "outputs": [
        {
          "output_type": "execute_result",
          "data": {
            "text/plain": [
              "<matplotlib.collections.PathCollection at 0x7f6b054d94d0>"
            ]
          },
          "metadata": {},
          "execution_count": 6
        },
        {
          "output_type": "display_data",
          "data": {
            "image/png": "[encoded data removed]",
            "text/plain": [
              "<Figure size 432x288 with 1 Axes>"
            ]
          },
          "metadata": {
            "needs_background": "light"
          }
        }
      ]
    },
    {
      "cell_type": "code",
      "source": [
        "def save():\n",
        "  # save net1\n",
        "  net1 = torch.nn.Sequential(\n",
        "      torch.nn.Linear(1, 10),\n",
        "      torch.nn.ReLU(),\n",
        "      torch.nn.Linear(10, 1)\n",
        "  )\n",
        "\n",
        "  optimizer = torch.optim.SGD(net1.parameters(), lr = 0.5)\n",
        "  loss_func = torch.nn.MSELoss()\n",
        "\n",
        "  for t in range(100):\n",
        "    prediction = net1(x)\n",
        "    loss = loss_func(prediction, y)\n",
        "    optimizer.zero_grad()\n",
        "    loss.backward()\n",
        "    optimizer.step()\n",
        "  \n",
        "  # plot result\n",
        "  plt.figure(1, figsize=(10, 3))\n",
        "  plt.subplot(131)\n",
        "  plt.title('Net1')\n",
        "  plt.scatter(x.data.numpy(), y.data.numpy(), 'r-', lw = 5)\n",
        "  plt.plot(x.data.numpy(), prediction.data.numpy(), 'r-', lw = 5)\n",
        "\n",
        "  # two ways to save the net\n",
        "  torch.save(net1, 'net.pkl') # save entire net\n",
        "  torch.save(net1.state_dict(), 'net_param_pkl') # save only the parameters"
      ],
      "metadata": {
        "id": "dpUUyuiQIl7N"
      },
      "execution_count": 8,
      "outputs": []
    },
    {
      "cell_type": "code",
      "source": [
        "def restore_net():\n",
        "  # restore entire net1 to net2\n",
        "  net2 = torch.load('net.pkl')\n",
        "  prediction = net2(x)\n",
        "\n",
        "  # plot result\n",
        "  plt.subplot(132)\n",
        "  plt.title('Net2')\n",
        "  plt.scatter(x.data.numpy(), y.data.numpy())\n",
        "  plt.plot(x.data.numpy(), prediction.data.numpy(), 'r-', lw = 5)"
      ],
      "metadata": {
        "id": "zM2WyWIFL_7e"
      },
      "execution_count": 9,
      "outputs": []
    },
    {
      "cell_type": "code",
      "source": [
        "def restore_parameter():\n",
        "  # restore only the parameters in net1 to net3\n",
        "  net3 = torch.nn.Sequential(\n",
        "      torch.nn.Linear(1, 10),\n",
        "      torch.nn.ReLU(),\n",
        "      torch.nn.Linear(10, 1)\n",
        "  )\n",
        "  # copy net1's parameters into net3\n",
        "  net3.load_state_dict(torch.load('net_params.pkl'))\n",
        "  prediction = net3(x)\n",
        "\n",
        "  # plot result\n",
        "  plt.subplot(133)\n",
        "  plt.title('Net3')\n",
        "  plt.scatter(x.data.numpy(), y.data.numpy(), 'r-', lw = 5)\n",
        "  plt.show()\n"
      ],
      "metadata": {
        "id": "m8Grw7y4aI7Y"
      },
      "execution_count": null,
      "outputs": []
    },
    {
      "cell_type": "code",
      "source": [
        "# save net1\n",
        "save()\n",
        "\n",
        "# restore entire net\n",
        "restore_net()\n",
        "\n",
        "# restore only the net parameters\n",
        "restore_parameter()"
      ],
      "metadata": {
        "id": "6TA4eEkzcDbP"
      },
      "execution_count": null,
      "outputs": []
    }
  ]
}