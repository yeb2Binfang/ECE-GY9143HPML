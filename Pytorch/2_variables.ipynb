{
  "nbformat": 4,
  "nbformat_minor": 0,
  "metadata": {
    "colab": {
      "name": "2-variables.ipynb",
      "provenance": [],
      "authorship_tag": "ABX9TyMoeNf24eiWERbaVTyWdj5s",
      "include_colab_link": true
    },
    "kernelspec": {
      "name": "python3",
      "display_name": "Python 3"
    },
    "language_info": {
      "name": "python"
    }
  },
  "cells": [
    {
      "cell_type": "markdown",
      "metadata": {
        "id": "view-in-github",
        "colab_type": "text"
      },
      "source": [
        "<a href=\"https://colab.research.google.com/github/yeb2Binfang/ECE-GY9143HPML/blob/main/Pytorch/2_variables.ipynb\" target=\"_parent\"><img src=\"https://colab.research.google.com/assets/colab-badge.svg\" alt=\"Open In Colab\"/></a>"
      ]
    },
    {
      "cell_type": "code",
      "execution_count": 1,
      "metadata": {
        "id": "C6isGfeM0EUV"
      },
      "outputs": [],
      "source": [
        "import torch\n",
        "from torch.autograd import Variable"
      ]
    },
    {
      "cell_type": "markdown",
      "source": [
        ""
      ],
      "metadata": {
        "id": "IBPnnz9f0Sjt"
      }
    },
    {
      "cell_type": "code",
      "source": [
        "# variable in torch is to build a computational graph\n",
        "# but this graph is dynamic compared with a static graph in Tensorflow or Theano\n",
        "# so torch does not have placeholder, torch can just pass vairable to the computational graph\n",
        "tensor = torch.FloatTensor([[1,2],[3,4]]) # build a tensor\n",
        "variable = Variable(tensor, requires_grad = True)"
      ],
      "metadata": {
        "id": "icXyh0LV0RNq"
      },
      "execution_count": 2,
      "outputs": []
    },
    {
      "cell_type": "code",
      "source": [
        "print(tensor)\n",
        "print(variable)"
      ],
      "metadata": {
        "colab": {
          "base_uri": "https://localhost:8080/"
        },
        "id": "EJaofuWR1FWC",
        "outputId": "463a9900-c66e-459c-eb45-546c61c66db6"
      },
      "execution_count": 3,
      "outputs": [
        {
          "output_type": "stream",
          "name": "stdout",
          "text": [
            "tensor([[1., 2.],\n",
            "        [3., 4.]])\n",
            "tensor([[1., 2.],\n",
            "        [3., 4.]], requires_grad=True)\n"
          ]
        }
      ]
    },
    {
      "cell_type": "code",
      "source": [
        "# till now, the tensor and variable seem the same\n",
        "# however, the variable is a part of the graph, it is a part of the auto-gradient\n",
        "t_out = torch.mean(tensor * tensor) # x^2\n",
        "v_out = torch.mean(variable * variable) # x^2\n",
        "print(t_out)\n",
        "print(v_out)"
      ],
      "metadata": {
        "colab": {
          "base_uri": "https://localhost:8080/"
        },
        "id": "lgCwEm6x1Jlq",
        "outputId": "9538d4e2-1495-41c2-d537-838d4aec7860"
      },
      "execution_count": 4,
      "outputs": [
        {
          "output_type": "stream",
          "name": "stdout",
          "text": [
            "tensor(7.5000)\n",
            "tensor(7.5000, grad_fn=<MeanBackward0>)\n"
          ]
        }
      ]
    },
    {
      "cell_type": "code",
      "source": [
        "v_out.backward() # backpropagation from v_out\n",
        "# v_out = 1/4 * sum(variable * variable)\n",
        "# the gradient w.r.t the variable, d(v_out) / d(variable) = 1/4 * 2 * variable = variable / 2\n",
        "print(variable.grad)"
      ],
      "metadata": {
        "colab": {
          "base_uri": "https://localhost:8080/"
        },
        "id": "WquLWZaI1lLT",
        "outputId": "0a95ea0d-4d56-4c0a-cce6-e5cf26f633ab"
      },
      "execution_count": 5,
      "outputs": [
        {
          "output_type": "stream",
          "name": "stdout",
          "text": [
            "tensor([[0.5000, 1.0000],\n",
            "        [1.5000, 2.0000]])\n"
          ]
        }
      ]
    },
    {
      "cell_type": "code",
      "source": [
        "print(variable)\n",
        "print(variable.data)\n",
        "print(variable.data.numpy())"
      ],
      "metadata": {
        "colab": {
          "base_uri": "https://localhost:8080/"
        },
        "id": "9WgApug91w1j",
        "outputId": "59c4fd06-15f2-4dfc-8ce3-4576c75901b9"
      },
      "execution_count": 8,
      "outputs": [
        {
          "output_type": "stream",
          "name": "stdout",
          "text": [
            "tensor([[1., 2.],\n",
            "        [3., 4.]], requires_grad=True)\n",
            "tensor([[1., 2.],\n",
            "        [3., 4.]])\n",
            "[[1. 2.]\n",
            " [3. 4.]]\n"
          ]
        }
      ]
    },
    {
      "cell_type": "code",
      "source": [
        ""
      ],
      "metadata": {
        "id": "GUa5xfRV2NRi"
      },
      "execution_count": null,
      "outputs": []
    }
  ]
}