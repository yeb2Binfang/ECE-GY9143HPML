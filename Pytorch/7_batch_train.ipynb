{
  "nbformat": 4,
  "nbformat_minor": 0,
  "metadata": {
    "colab": {
      "name": "7_batch_train.ipynb",
      "provenance": [],
      "authorship_tag": "ABX9TyN615FPl/M01T1WKLRiXGd8",
      "include_colab_link": true
    },
    "kernelspec": {
      "name": "python3",
      "display_name": "Python 3"
    },
    "language_info": {
      "name": "python"
    }
  },
  "cells": [
    {
      "cell_type": "markdown",
      "metadata": {
        "id": "view-in-github",
        "colab_type": "text"
      },
      "source": [
        "<a href=\"https://colab.research.google.com/github/yeb2Binfang/ECE-GY9143HPML/blob/main/Pytorch/7_batch_train.ipynb\" target=\"_parent\"><img src=\"https://colab.research.google.com/assets/colab-badge.svg\" alt=\"Open In Colab\"/></a>"
      ]
    },
    {
      "cell_type": "code",
      "execution_count": 1,
      "metadata": {
        "id": "ubW0ePInP0W1"
      },
      "outputs": [],
      "source": [
        "import torch\n",
        "import torch.utils.data as Data"
      ]
    },
    {
      "cell_type": "code",
      "source": [
        "torch.manual_seed(1) # reproducible"
      ],
      "metadata": {
        "colab": {
          "base_uri": "https://localhost:8080/"
        },
        "id": "Nv484DwnQAHU",
        "outputId": "978a5757-dd1a-4f3d-bb8b-92e028406f68"
      },
      "execution_count": 2,
      "outputs": [
        {
          "output_type": "execute_result",
          "data": {
            "text/plain": [
              "<torch._C.Generator at 0x7f3958cf70d0>"
            ]
          },
          "metadata": {},
          "execution_count": 2
        }
      ]
    },
    {
      "cell_type": "code",
      "source": [
        "BATCH_SIZE = 5"
      ],
      "metadata": {
        "id": "xZc3MS5LQEkz"
      },
      "execution_count": 3,
      "outputs": []
    },
    {
      "cell_type": "code",
      "source": [
        "x = torch.linspace(1, 10, 10) # this is x data\n",
        "y = torch.linspace(10, 1, 10) # this is y data"
      ],
      "metadata": {
        "id": "GGViEkN3QHGz"
      },
      "execution_count": 4,
      "outputs": []
    },
    {
      "cell_type": "code",
      "source": [
        "print(x)\n",
        "print(y)"
      ],
      "metadata": {
        "colab": {
          "base_uri": "https://localhost:8080/"
        },
        "id": "oCkm1t7RQQGd",
        "outputId": "b67c0a09-069d-45a9-dcb1-fe8e22c5f946"
      },
      "execution_count": 5,
      "outputs": [
        {
          "output_type": "stream",
          "name": "stdout",
          "text": [
            "tensor([ 1.,  2.,  3.,  4.,  5.,  6.,  7.,  8.,  9., 10.])\n",
            "tensor([10.,  9.,  8.,  7.,  6.,  5.,  4.,  3.,  2.,  1.])\n"
          ]
        }
      ]
    },
    {
      "cell_type": "code",
      "source": [
        "torch_dataset = Data.TensorDataset(x, y)\n",
        "loader = Data.DataLoader(\n",
        "    dataset = torch_dataset, # torch tensorDatset dormat\n",
        "    batch_size= BATCH_SIZE,\n",
        "    shuffle = True, # random shuffle for training\n",
        "    num_workers = 2, # subprocesses for loading data\n",
        ")"
      ],
      "metadata": {
        "id": "ahr8NAs3QRyM"
      },
      "execution_count": 6,
      "outputs": []
    },
    {
      "cell_type": "code",
      "source": [
        "def show_batch():\n",
        "  for epoch in range(3):\n",
        "    for step, (batch_x, batch_y) in enumerate(loader):\n",
        "      print('Epoch: ', epoch, '| Step: ', step, '| batch x: ', batch_x.numpy(), '| batch y: ', batch_y.numpy())"
      ],
      "metadata": {
        "id": "s9qduYCLQtPF"
      },
      "execution_count": 7,
      "outputs": []
    },
    {
      "cell_type": "code",
      "source": [
        "if __name__ == '__main__':\n",
        "  show_batch()"
      ],
      "metadata": {
        "colab": {
          "base_uri": "https://localhost:8080/"
        },
        "id": "9SLWfHNSRQUL",
        "outputId": "8c72dc94-c044-42c2-ecd0-4e9898a420b8"
      },
      "execution_count": 8,
      "outputs": [
        {
          "output_type": "stream",
          "name": "stdout",
          "text": [
            "Epoch:  0 | Step:  0 | batch x:  [5. 3. 1. 7. 9.] | batch y:  [ 6.  8. 10.  4.  2.]\n",
            "Epoch:  0 | Step:  1 | batch x:  [ 8. 10.  2.  6.  4.] | batch y:  [3. 1. 9. 5. 7.]\n",
            "Epoch:  1 | Step:  0 | batch x:  [5. 9. 2. 6. 1.] | batch y:  [ 6.  2.  9.  5. 10.]\n",
            "Epoch:  1 | Step:  1 | batch x:  [ 3.  4.  7. 10.  8.] | batch y:  [8. 7. 4. 1. 3.]\n",
            "Epoch:  2 | Step:  0 | batch x:  [6. 9. 4. 8. 7.] | batch y:  [5. 2. 7. 3. 4.]\n",
            "Epoch:  2 | Step:  1 | batch x:  [10.  3.  2.  1.  5.] | batch y:  [ 1.  8.  9. 10.  6.]\n"
          ]
        }
      ]
    },
    {
      "cell_type": "code",
      "source": [
        ""
      ],
      "metadata": {
        "id": "P9NpMdhrRVbM"
      },
      "execution_count": null,
      "outputs": []
    }
  ]
}