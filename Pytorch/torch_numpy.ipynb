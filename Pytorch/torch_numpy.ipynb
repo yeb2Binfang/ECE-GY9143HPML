{
  "nbformat": 4,
  "nbformat_minor": 0,
  "metadata": {
    "colab": {
      "name": "1-torch_numpy.ipynb",
      "provenance": [],
      "authorship_tag": "ABX9TyOAeYNw0SWjKay9v6uyqq8E",
      "include_colab_link": true
    },
    "kernelspec": {
      "name": "python3",
      "display_name": "Python 3"
    },
    "language_info": {
      "name": "python"
    }
  },
  "cells": [
    {
      "cell_type": "markdown",
      "metadata": {
        "id": "view-in-github",
        "colab_type": "text"
      },
      "source": [
        "<a href=\"https://colab.research.google.com/github/yeb2Binfang/ECE-GY9143HPML/blob/main/Pytorch/torch_numpy.ipynb\" target=\"_parent\"><img src=\"https://colab.research.google.com/assets/colab-badge.svg\" alt=\"Open In Colab\"/></a>"
      ]
    },
    {
      "cell_type": "code",
      "execution_count": 1,
      "metadata": {
        "id": "p2SZBqL0jkVx"
      },
      "outputs": [],
      "source": [
        "import torch\n",
        "import numpy as np"
      ]
    },
    {
      "cell_type": "markdown",
      "source": [
        "## convert numpy to tensor or vise versa"
      ],
      "metadata": {
        "id": "s8yLalcknuge"
      }
    },
    {
      "cell_type": "code",
      "source": [
        "np_data = np.arange(6).reshape((2,3))\n",
        "torch_data = torch.from_numpy(np_data)\n",
        "tensor2array = torch_data.numpy()\n",
        "print(\n",
        "    '\\nnumpy array::', np_data,\n",
        "    '\\ntorch tensor: ', torch_data,\n",
        "    '\\ntensor to array: ', tensor2array\n",
        ")"
      ],
      "metadata": {
        "colab": {
          "base_uri": "https://localhost:8080/"
        },
        "id": "kL1VLAhSnDcE",
        "outputId": "a7142153-4d04-4d49-fb96-3e8b37d11dde"
      },
      "execution_count": 2,
      "outputs": [
        {
          "output_type": "stream",
          "name": "stdout",
          "text": [
            "\n",
            "numpy array:: [[0 1 2]\n",
            " [3 4 5]] \n",
            "torch tensor:  tensor([[0, 1, 2],\n",
            "        [3, 4, 5]]) \n",
            "tensor to array:  [[0 1 2]\n",
            " [3 4 5]]\n"
          ]
        }
      ]
    },
    {
      "cell_type": "markdown",
      "source": [
        "## abs"
      ],
      "metadata": {
        "id": "ysoxavV3n2lg"
      }
    },
    {
      "cell_type": "code",
      "source": [
        "data = [-1, -2, 1, 2]\n",
        "tensor = torch.FloatTensor(data) # 32 bit floating point\n",
        "print(\n",
        "    '\\nabs',\n",
        "    '\\nnumpy: ', np.abs(data),\n",
        "    '\\ntorch: ', torch.abs(tensor)\n",
        ")"
      ],
      "metadata": {
        "colab": {
          "base_uri": "https://localhost:8080/"
        },
        "id": "GeTiyugpn1Vc",
        "outputId": "280d0a19-edd8-4e3c-fdf6-a7a1a157ea52"
      },
      "execution_count": 3,
      "outputs": [
        {
          "output_type": "stream",
          "name": "stdout",
          "text": [
            "\n",
            "abs \n",
            "numpy:  [1 2 1 2] \n",
            "torch:  tensor([1., 2., 1., 2.])\n"
          ]
        }
      ]
    },
    {
      "cell_type": "markdown",
      "source": [
        "## sin"
      ],
      "metadata": {
        "id": "7Th3bJvMn07C"
      }
    },
    {
      "cell_type": "code",
      "source": [
        "print(\n",
        "    '\\nsin',\n",
        "    '\\nnumpy: ', np.sin(data),\n",
        "    '\\ntorch: ', torch.sin(tensor)\n",
        ")"
      ],
      "metadata": {
        "colab": {
          "base_uri": "https://localhost:8080/"
        },
        "id": "5UaGol9snlAO",
        "outputId": "7db5eb67-1b49-4c1e-d0d5-1092f5995d94"
      },
      "execution_count": 4,
      "outputs": [
        {
          "output_type": "stream",
          "name": "stdout",
          "text": [
            "\n",
            "sin \n",
            "numpy:  [-0.84147098 -0.90929743  0.84147098  0.90929743] \n",
            "torch:  tensor([-0.8415, -0.9093,  0.8415,  0.9093])\n"
          ]
        }
      ]
    },
    {
      "cell_type": "markdown",
      "source": [
        "# mean"
      ],
      "metadata": {
        "id": "EH4hRyPxo_-1"
      }
    },
    {
      "cell_type": "code",
      "source": [
        "print(\n",
        "    '\\nmean:',\n",
        "    '\\nnumpy: ', np.mean(data),\n",
        "    '\\ntorch: ', torch.mean(tensor)\n",
        ")"
      ],
      "metadata": {
        "colab": {
          "base_uri": "https://localhost:8080/"
        },
        "id": "ejjVwNuVo6mU",
        "outputId": "126de42e-894a-419e-8b1f-3c84c7ac748a"
      },
      "execution_count": 5,
      "outputs": [
        {
          "output_type": "stream",
          "name": "stdout",
          "text": [
            "\n",
            "mean: \n",
            "numpy:  0.0 \n",
            "torch:  tensor(0.)\n"
          ]
        }
      ]
    },
    {
      "cell_type": "markdown",
      "source": [
        "## matirx multiplication"
      ],
      "metadata": {
        "id": "n22vFQnxxhKA"
      }
    },
    {
      "cell_type": "code",
      "source": [
        "data = [[1,2], [3,4]]\n",
        "tensor = torch.FloatTensor(data) # 32 bit floating point\n",
        "# correct method \n",
        "print(\n",
        "    '\\nmatrix multiplication (matmul)',\n",
        "    '\\nnumpy: ', np.matmul(data, data),\n",
        "    '\\ndot: ', np.array(data).dot(np.array(data)),\n",
        "    '\\ntorch: ', torch.mm(tensor, tensor)\n",
        ")"
      ],
      "metadata": {
        "colab": {
          "base_uri": "https://localhost:8080/"
        },
        "id": "o9-JQZN1vMMS",
        "outputId": "e719cefd-bb96-4ddc-900d-115b3b42c9e4"
      },
      "execution_count": 13,
      "outputs": [
        {
          "output_type": "stream",
          "name": "stdout",
          "text": [
            "\n",
            "matrix multiplication (matmul) \n",
            "numpy:  [[ 7 10]\n",
            " [15 22]] \n",
            "dot:  [[ 7 10]\n",
            " [15 22]] \n",
            "torch:  tensor([[ 7., 10.],\n",
            "        [15., 22.]])\n"
          ]
        }
      ]
    },
    {
      "cell_type": "code",
      "source": [
        ""
      ],
      "metadata": {
        "id": "56rwDTreyFkl"
      },
      "execution_count": null,
      "outputs": []
    }
  ]
}
