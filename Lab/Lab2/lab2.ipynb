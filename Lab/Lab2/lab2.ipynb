{
  "nbformat": 4,
  "nbformat_minor": 0,
  "metadata": {
    "colab": {
      "name": "lab2.ipynb",
      "provenance": [],
      "authorship_tag": "ABX9TyMhR0XJi1Tox5Kx2IUPDPm9",
      "include_colab_link": true
    },
    "kernelspec": {
      "name": "python3",
      "display_name": "Python 3"
    },
    "language_info": {
      "name": "python"
    },
    "widgets": {
      "application/vnd.jupyter.widget-state+json": {
        "0acc4d7553954befbad9e25ec6e7eec5": {
          "model_module": "@jupyter-widgets/controls",
          "model_name": "HBoxModel",
          "model_module_version": "1.5.0",
          "state": {
            "_view_name": "HBoxView",
            "_dom_classes": [],
            "_model_name": "HBoxModel",
            "_view_module": "@jupyter-widgets/controls",
            "_model_module_version": "1.5.0",
            "_view_count": null,
            "_view_module_version": "1.5.0",
            "box_style": "",
            "layout": "IPY_MODEL_340b28304f16427c9e4c2dc77fc434e5",
            "_model_module": "@jupyter-widgets/controls",
            "children": [
              "IPY_MODEL_1ffb0910be3044ad90a2fd9b753038bd",
              "IPY_MODEL_e2030130a100496c9378980799d8cb2e",
              "IPY_MODEL_84080b274e6d46db9e7fec7d887f341a"
            ]
          }
        },
        "340b28304f16427c9e4c2dc77fc434e5": {
          "model_module": "@jupyter-widgets/base",
          "model_name": "LayoutModel",
          "model_module_version": "1.2.0",
          "state": {
            "_view_name": "LayoutView",
            "grid_template_rows": null,
            "right": null,
            "justify_content": null,
            "_view_module": "@jupyter-widgets/base",
            "overflow": null,
            "_model_module_version": "1.2.0",
            "_view_count": null,
            "flex_flow": null,
            "width": null,
            "min_width": null,
            "border": null,
            "align_items": null,
            "bottom": null,
            "_model_module": "@jupyter-widgets/base",
            "top": null,
            "grid_column": null,
            "overflow_y": null,
            "overflow_x": null,
            "grid_auto_flow": null,
            "grid_area": null,
            "grid_template_columns": null,
            "flex": null,
            "_model_name": "LayoutModel",
            "justify_items": null,
            "grid_row": null,
            "max_height": null,
            "align_content": null,
            "visibility": null,
            "align_self": null,
            "height": null,
            "min_height": null,
            "padding": null,
            "grid_auto_rows": null,
            "grid_gap": null,
            "max_width": null,
            "order": null,
            "_view_module_version": "1.2.0",
            "grid_template_areas": null,
            "object_position": null,
            "object_fit": null,
            "grid_auto_columns": null,
            "margin": null,
            "display": null,
            "left": null
          }
        },
        "1ffb0910be3044ad90a2fd9b753038bd": {
          "model_module": "@jupyter-widgets/controls",
          "model_name": "HTMLModel",
          "model_module_version": "1.5.0",
          "state": {
            "_view_name": "HTMLView",
            "style": "IPY_MODEL_325785155a53490a90063cde15151907",
            "_dom_classes": [],
            "description": "",
            "_model_name": "HTMLModel",
            "placeholder": "​",
            "_view_module": "@jupyter-widgets/controls",
            "_model_module_version": "1.5.0",
            "value": "",
            "_view_count": null,
            "_view_module_version": "1.5.0",
            "description_tooltip": null,
            "_model_module": "@jupyter-widgets/controls",
            "layout": "IPY_MODEL_60bac71eb2954a39935650530cc59f8c"
          }
        },
        "e2030130a100496c9378980799d8cb2e": {
          "model_module": "@jupyter-widgets/controls",
          "model_name": "FloatProgressModel",
          "model_module_version": "1.5.0",
          "state": {
            "_view_name": "ProgressView",
            "style": "IPY_MODEL_31b78134bec349cb94ce0e5f849d05c1",
            "_dom_classes": [],
            "description": "",
            "_model_name": "FloatProgressModel",
            "bar_style": "success",
            "max": 170498071,
            "_view_module": "@jupyter-widgets/controls",
            "_model_module_version": "1.5.0",
            "value": 170498071,
            "_view_count": null,
            "_view_module_version": "1.5.0",
            "orientation": "horizontal",
            "min": 0,
            "description_tooltip": null,
            "_model_module": "@jupyter-widgets/controls",
            "layout": "IPY_MODEL_74204aad57a641778c06913e28720f32"
          }
        },
        "84080b274e6d46db9e7fec7d887f341a": {
          "model_module": "@jupyter-widgets/controls",
          "model_name": "HTMLModel",
          "model_module_version": "1.5.0",
          "state": {
            "_view_name": "HTMLView",
            "style": "IPY_MODEL_4403729097eb4c0e94525fc1c32349fa",
            "_dom_classes": [],
            "description": "",
            "_model_name": "HTMLModel",
            "placeholder": "​",
            "_view_module": "@jupyter-widgets/controls",
            "_model_module_version": "1.5.0",
            "value": " 170499072/? [00:02&lt;00:00, 79109506.53it/s]",
            "_view_count": null,
            "_view_module_version": "1.5.0",
            "description_tooltip": null,
            "_model_module": "@jupyter-widgets/controls",
            "layout": "IPY_MODEL_a38487b7c2004da79ff7c8d672e5f3c2"
          }
        },
        "325785155a53490a90063cde15151907": {
          "model_module": "@jupyter-widgets/controls",
          "model_name": "DescriptionStyleModel",
          "model_module_version": "1.5.0",
          "state": {
            "_view_name": "StyleView",
            "_model_name": "DescriptionStyleModel",
            "description_width": "",
            "_view_module": "@jupyter-widgets/base",
            "_model_module_version": "1.5.0",
            "_view_count": null,
            "_view_module_version": "1.2.0",
            "_model_module": "@jupyter-widgets/controls"
          }
        },
        "60bac71eb2954a39935650530cc59f8c": {
          "model_module": "@jupyter-widgets/base",
          "model_name": "LayoutModel",
          "model_module_version": "1.2.0",
          "state": {
            "_view_name": "LayoutView",
            "grid_template_rows": null,
            "right": null,
            "justify_content": null,
            "_view_module": "@jupyter-widgets/base",
            "overflow": null,
            "_model_module_version": "1.2.0",
            "_view_count": null,
            "flex_flow": null,
            "width": null,
            "min_width": null,
            "border": null,
            "align_items": null,
            "bottom": null,
            "_model_module": "@jupyter-widgets/base",
            "top": null,
            "grid_column": null,
            "overflow_y": null,
            "overflow_x": null,
            "grid_auto_flow": null,
            "grid_area": null,
            "grid_template_columns": null,
            "flex": null,
            "_model_name": "LayoutModel",
            "justify_items": null,
            "grid_row": null,
            "max_height": null,
            "align_content": null,
            "visibility": null,
            "align_self": null,
            "height": null,
            "min_height": null,
            "padding": null,
            "grid_auto_rows": null,
            "grid_gap": null,
            "max_width": null,
            "order": null,
            "_view_module_version": "1.2.0",
            "grid_template_areas": null,
            "object_position": null,
            "object_fit": null,
            "grid_auto_columns": null,
            "margin": null,
            "display": null,
            "left": null
          }
        },
        "31b78134bec349cb94ce0e5f849d05c1": {
          "model_module": "@jupyter-widgets/controls",
          "model_name": "ProgressStyleModel",
          "model_module_version": "1.5.0",
          "state": {
            "_view_name": "StyleView",
            "_model_name": "ProgressStyleModel",
            "description_width": "",
            "_view_module": "@jupyter-widgets/base",
            "_model_module_version": "1.5.0",
            "_view_count": null,
            "_view_module_version": "1.2.0",
            "bar_color": null,
            "_model_module": "@jupyter-widgets/controls"
          }
        },
        "74204aad57a641778c06913e28720f32": {
          "model_module": "@jupyter-widgets/base",
          "model_name": "LayoutModel",
          "model_module_version": "1.2.0",
          "state": {
            "_view_name": "LayoutView",
            "grid_template_rows": null,
            "right": null,
            "justify_content": null,
            "_view_module": "@jupyter-widgets/base",
            "overflow": null,
            "_model_module_version": "1.2.0",
            "_view_count": null,
            "flex_flow": null,
            "width": null,
            "min_width": null,
            "border": null,
            "align_items": null,
            "bottom": null,
            "_model_module": "@jupyter-widgets/base",
            "top": null,
            "grid_column": null,
            "overflow_y": null,
            "overflow_x": null,
            "grid_auto_flow": null,
            "grid_area": null,
            "grid_template_columns": null,
            "flex": null,
            "_model_name": "LayoutModel",
            "justify_items": null,
            "grid_row": null,
            "max_height": null,
            "align_content": null,
            "visibility": null,
            "align_self": null,
            "height": null,
            "min_height": null,
            "padding": null,
            "grid_auto_rows": null,
            "grid_gap": null,
            "max_width": null,
            "order": null,
            "_view_module_version": "1.2.0",
            "grid_template_areas": null,
            "object_position": null,
            "object_fit": null,
            "grid_auto_columns": null,
            "margin": null,
            "display": null,
            "left": null
          }
        },
        "4403729097eb4c0e94525fc1c32349fa": {
          "model_module": "@jupyter-widgets/controls",
          "model_name": "DescriptionStyleModel",
          "model_module_version": "1.5.0",
          "state": {
            "_view_name": "StyleView",
            "_model_name": "DescriptionStyleModel",
            "description_width": "",
            "_view_module": "@jupyter-widgets/base",
            "_model_module_version": "1.5.0",
            "_view_count": null,
            "_view_module_version": "1.2.0",
            "_model_module": "@jupyter-widgets/controls"
          }
        },
        "a38487b7c2004da79ff7c8d672e5f3c2": {
          "model_module": "@jupyter-widgets/base",
          "model_name": "LayoutModel",
          "model_module_version": "1.2.0",
          "state": {
            "_view_name": "LayoutView",
            "grid_template_rows": null,
            "right": null,
            "justify_content": null,
            "_view_module": "@jupyter-widgets/base",
            "overflow": null,
            "_model_module_version": "1.2.0",
            "_view_count": null,
            "flex_flow": null,
            "width": null,
            "min_width": null,
            "border": null,
            "align_items": null,
            "bottom": null,
            "_model_module": "@jupyter-widgets/base",
            "top": null,
            "grid_column": null,
            "overflow_y": null,
            "overflow_x": null,
            "grid_auto_flow": null,
            "grid_area": null,
            "grid_template_columns": null,
            "flex": null,
            "_model_name": "LayoutModel",
            "justify_items": null,
            "grid_row": null,
            "max_height": null,
            "align_content": null,
            "visibility": null,
            "align_self": null,
            "height": null,
            "min_height": null,
            "padding": null,
            "grid_auto_rows": null,
            "grid_gap": null,
            "max_width": null,
            "order": null,
            "_view_module_version": "1.2.0",
            "grid_template_areas": null,
            "object_position": null,
            "object_fit": null,
            "grid_auto_columns": null,
            "margin": null,
            "display": null,
            "left": null
          }
        }
      }
    }
  },
  "cells": [
    {
      "cell_type": "markdown",
      "metadata": {
        "id": "view-in-github",
        "colab_type": "text"
      },
      "source": [
        "<a href=\"https://colab.research.google.com/github/yeb2Binfang/ECE-GY9143HPML/blob/main/Lab/Lab2/lab2.ipynb\" target=\"_parent\"><img src=\"https://colab.research.google.com/assets/colab-badge.svg\" alt=\"Open In Colab\"/></a>"
      ]
    },
    {
      "cell_type": "markdown",
      "source": [
        "# Load dataset\n",
        "\n",
        "We will use CIFAR10, which contains 50K 32 x 32 color images"
      ],
      "metadata": {
        "id": "GlrIV3Eq7F38"
      }
    },
    {
      "cell_type": "code",
      "execution_count": 1,
      "metadata": {
        "id": "-me0CZZT63yd"
      },
      "outputs": [],
      "source": [
        "import torch\n",
        "import torch.nn as nn\n",
        "import torch.optim as optim\n",
        "import torch.nn.functional as F\n",
        "import torchvision\n",
        "import torchvision.transforms as transforms\n",
        "import matplotlib.pyplot as plt\n",
        "import numpy as np\n",
        "import random\n",
        "import os\n",
        "import argparse\n",
        "import time\n",
        "%matplotlib inline"
      ]
    },
    {
      "cell_type": "code",
      "source": [
        "trainsform_train = transforms.Compose([\n",
        "    transforms.RandomCrop(32, padding = 4),\n",
        "    transforms.RandomHorizontalFlip(p=0.5),\n",
        "    transforms.ToTensor(),\n",
        "    transforms.Normalize((0.4914, 0.4822, 0.4465), (0.2023, 0.1994, 0.2010))\n",
        "])"
      ],
      "metadata": {
        "id": "ZrobemF8-4bH"
      },
      "execution_count": 2,
      "outputs": []
    },
    {
      "cell_type": "code",
      "source": [
        "trainsform_test = transforms.Compose([\n",
        "    transforms.ToTensor(),\n",
        "    transforms.Normalize((0.4914, 0.4822, 0.4465), (0.2023, 0.1994, 0.2010))\n",
        "])"
      ],
      "metadata": {
        "id": "cqE5LkvcAC5c"
      },
      "execution_count": 3,
      "outputs": []
    },
    {
      "cell_type": "code",
      "source": [
        "train_set = torchvision.datasets.CIFAR10(root = './data', train=True, download=True, transform=trainsform_train)"
      ],
      "metadata": {
        "colab": {
          "base_uri": "https://localhost:8080/",
          "height": 84,
          "referenced_widgets": [
            "0acc4d7553954befbad9e25ec6e7eec5",
            "340b28304f16427c9e4c2dc77fc434e5",
            "1ffb0910be3044ad90a2fd9b753038bd",
            "e2030130a100496c9378980799d8cb2e",
            "84080b274e6d46db9e7fec7d887f341a",
            "325785155a53490a90063cde15151907",
            "60bac71eb2954a39935650530cc59f8c",
            "31b78134bec349cb94ce0e5f849d05c1",
            "74204aad57a641778c06913e28720f32",
            "4403729097eb4c0e94525fc1c32349fa",
            "a38487b7c2004da79ff7c8d672e5f3c2"
          ]
        },
        "id": "A6rdIAtx-N7e",
        "outputId": "4d8b9dac-a0da-457b-ddc4-80ebca6e8055"
      },
      "execution_count": 4,
      "outputs": [
        {
          "output_type": "stream",
          "name": "stdout",
          "text": [
            "Downloading https://www.cs.toronto.edu/~kriz/cifar-10-python.tar.gz to ./data/cifar-10-python.tar.gz\n"
          ]
        },
        {
          "output_type": "display_data",
          "data": {
            "application/vnd.jupyter.widget-view+json": {
              "model_id": "0acc4d7553954befbad9e25ec6e7eec5",
              "version_minor": 0,
              "version_major": 2
            },
            "text/plain": [
              "  0%|          | 0/170498071 [00:00<?, ?it/s]"
            ]
          },
          "metadata": {}
        },
        {
          "output_type": "stream",
          "name": "stdout",
          "text": [
            "Extracting ./data/cifar-10-python.tar.gz to ./data\n"
          ]
        }
      ]
    },
    {
      "cell_type": "code",
      "source": [
        "test_set = torchvision.datasets.CIFAR10(root = './data', train=False, download=True, transform=trainsform_test)"
      ],
      "metadata": {
        "colab": {
          "base_uri": "https://localhost:8080/"
        },
        "id": "S4XoCFoO_bnV",
        "outputId": "a001d485-55b8-49ed-c7f9-9528769559ef"
      },
      "execution_count": 5,
      "outputs": [
        {
          "output_type": "stream",
          "name": "stdout",
          "text": [
            "Files already downloaded and verified\n"
          ]
        }
      ]
    },
    {
      "cell_type": "code",
      "source": [
        "batch_size = 128\n",
        "train_loader = torch.utils.data.DataLoader(train_set, batch_size = batch_size,shuffle = True, num_workers = 2)\n",
        "test_loader = torch.utils.data.DataLoader(test_set, batch_size = batch_size, shuffle = True, num_workers = 2)"
      ],
      "metadata": {
        "id": "4LF0vA9aGDdr"
      },
      "execution_count": 6,
      "outputs": []
    },
    {
      "cell_type": "code",
      "source": [
        "classes = ('plane', 'car', 'bird', 'cat', 'deer', 'dog', 'frog', 'horse', 'ship', 'truck')"
      ],
      "metadata": {
        "id": "k7tfFmwS_jHE"
      },
      "execution_count": 7,
      "outputs": []
    },
    {
      "cell_type": "markdown",
      "source": [
        "# Build model\n",
        "\n",
        "Create ResNet18.\n",
        "Specifically, The first convolutional layer should have 3 input channels, 64 output channels, 3x3 kernel, with stride=1 and padding=1. Followed by 8 basic blocks in 4 subgroups (i.e. 2 basic blocks in each subgroup):\n",
        "1. The first sub-group contains a convolutional layer with 64 output channels, 3x3 kernel, stride=1, padding=1.\n",
        "2. The second sub-group contains a convolutional layer with 128 output channels, 3x3 kernel, stride=2, padding=1.\n",
        "3. The third sub-group contains a convolutional layer with 256 output channels, 3x3 kernel, stride=2, padding=1.\n",
        "4. The fourth sub-group contains a convolutional layer with 512 output channels, 3x3 kernel, stride=2, padding=1.\n",
        "5. The final linear layer is of 10 output classes. For all convolutional layers, use RELU activation functions, and use batch normal layers to avoid covariant shift. Since batch-norm layers regularize the training, set the bias to 0 for all the convolutional layers. Use SGD optimizers with 0.1 as the learning rate, momentum 0.9, weight decay 5e-4. The loss function is cross-entropy.\n",
        "\n",
        "For all convolutional layers, use RELU activation functions, and use batch normal layers to avoid covariant shift. Since batch-norm layers regularize the training, set the bias to 0 for all the convolutional layers. \n"
      ],
      "metadata": {
        "id": "Y_J8uSwhJ6Tv"
      }
    },
    {
      "cell_type": "code",
      "source": [
        "class BasicBlock(nn.Module):\n",
        "  expansion = 1\n",
        "  \n",
        "  def __init__(self, input_channels, out_channels, stride = 1):\n",
        "    super(BasicBlock, self).__init__()\n",
        "    self.conv1 = nn.Conv2d(input_channels, out_channels, kernel_size = 3, stride = stride, padding = 1, bias = False)\n",
        "    self.bn1 = nn.BatchNorm2d(out_channels)\n",
        "    self.conv2 = nn.Conv2d(out_channels, out_channels, kernel_size = 3, stride = 1, padding = 1, bias = False)\n",
        "    self.bn2 = nn.BatchNorm2d(out_channels)\n",
        "\n",
        "    self.shortcut = nn.Sequential()\n",
        "    # when stride != 1 or input_channels != out_channels, it means the width and height are different\n",
        "    if stride != 1 or input_channels != self.expansion * out_channels:\n",
        "      self.shortcut = nn.Sequential(\n",
        "          nn.Conv2d(input_channels, self.expansion * out_channels, kernel_size = 1, stride = stride, bias = False),\n",
        "          nn.BatchNorm2d(self.expansion * out_channels)\n",
        "      )\n",
        "    \n",
        "  def forward(self, x):\n",
        "    out = F.relu(self.bn1(self.conv1(x)))\n",
        "    out = self.bn2(self.conv2(out))\n",
        "    out += self.shortcut(x)\n",
        "    out = F.relu(out)\n",
        "    return out    "
      ],
      "metadata": {
        "id": "MS00dM5DK_k0"
      },
      "execution_count": 8,
      "outputs": []
    },
    {
      "cell_type": "code",
      "source": [
        "class ResNet(nn.Module):\n",
        "  def __init__(self, block, num_blocks, num_classes = 10):\n",
        "    super(ResNet, self).__init__()\n",
        "    self.input_channels = 64\n",
        "    \n",
        "    self.conv1 = nn.Conv2d(3, 64, kernel_size = 3, stride = 1, padding = 1, bias = False)\n",
        "    self.bn1 = nn.BatchNorm2d(64)\n",
        "    self.layer1 = self._make_layer(block, 64, num_blocks[0], stride = 1)\n",
        "    self.layer2 = self._make_layer(block, 128, num_blocks[1], stride = 2)\n",
        "    self.layer3 = self._make_layer(block, 256, num_blocks[2], stride = 2)\n",
        "    self.layer4 = self._make_layer(block, 512, num_blocks[3], stride = 2)\n",
        "    self.linear = nn.Linear(512 * block.expansion, num_classes)\n",
        "\n",
        "  def _make_layer(self, block, out_channels, num_blocks, stride):\n",
        "    strides = [stride] + [1] * (num_blocks - 1)\n",
        "    layers = []\n",
        "    for stride in strides:\n",
        "      layers.append(block(self.input_channels, out_channels, stride))\n",
        "      self.input_channels = out_channels * block.expansion\n",
        "    return nn.Sequential(*layers)\n",
        "\n",
        "  def forward(self, x):\n",
        "    out = F.relu(self.bn1(self.conv1(x)))\n",
        "    out = self.layer1(out)\n",
        "    out = self.layer2(out)\n",
        "    out = self.layer3(out)\n",
        "    out = self.layer4(out)\n",
        "    out = F.avg_pool2d(out, 4)\n",
        "    out = out.view(out.size(0), -1)\n",
        "    out = self.linear(out)\n",
        "    return out\n",
        "\n"
      ],
      "metadata": {
        "id": "0YukySX3Hqzt"
      },
      "execution_count": 9,
      "outputs": []
    },
    {
      "cell_type": "code",
      "source": [
        "def ResNet18():\n",
        "  return ResNet(BasicBlock, [2,2,2,2])"
      ],
      "metadata": {
        "id": "58a09Di92j1j"
      },
      "execution_count": 10,
      "outputs": []
    },
    {
      "cell_type": "code",
      "source": [
        "net = ResNet18()"
      ],
      "metadata": {
        "id": "sm-KpxX62rkA"
      },
      "execution_count": 11,
      "outputs": []
    },
    {
      "cell_type": "code",
      "source": [
        "num_params = sum(param.numel() for param in net.parameters())\n",
        "num_params1 = sum(param.numel() for param in net.parameters() if param.requires_grad)\n",
        "print(num_params)\n",
        "print(num_params1)"
      ],
      "metadata": {
        "id": "0fqTEdGsG9ej",
        "outputId": "a00f7f03-404c-405e-ea06-a7debb7530f4",
        "colab": {
          "base_uri": "https://localhost:8080/"
        }
      },
      "execution_count": null,
      "outputs": [
        {
          "output_type": "stream",
          "name": "stdout",
          "text": [
            "11173962\n",
            "11173962\n"
          ]
        }
      ]
    },
    {
      "cell_type": "code",
      "source": [
        "from torchsummary import summary\n",
        "summary(net, (3,32,32))"
      ],
      "metadata": {
        "id": "qGPYQ1aOHVcv",
        "outputId": "14a3bc47-747b-4663-a9b5-074f6a201e46",
        "colab": {
          "base_uri": "https://localhost:8080/"
        }
      },
      "execution_count": null,
      "outputs": [
        {
          "output_type": "stream",
          "name": "stdout",
          "text": [
            "----------------------------------------------------------------\n",
            "        Layer (type)               Output Shape         Param #\n",
            "================================================================\n",
            "            Conv2d-1           [-1, 64, 32, 32]           1,728\n",
            "       BatchNorm2d-2           [-1, 64, 32, 32]             128\n",
            "            Conv2d-3           [-1, 64, 32, 32]          36,864\n",
            "       BatchNorm2d-4           [-1, 64, 32, 32]             128\n",
            "            Conv2d-5           [-1, 64, 32, 32]          36,864\n",
            "       BatchNorm2d-6           [-1, 64, 32, 32]             128\n",
            "        BasicBlock-7           [-1, 64, 32, 32]               0\n",
            "            Conv2d-8           [-1, 64, 32, 32]          36,864\n",
            "       BatchNorm2d-9           [-1, 64, 32, 32]             128\n",
            "           Conv2d-10           [-1, 64, 32, 32]          36,864\n",
            "      BatchNorm2d-11           [-1, 64, 32, 32]             128\n",
            "       BasicBlock-12           [-1, 64, 32, 32]               0\n",
            "           Conv2d-13          [-1, 128, 16, 16]          73,728\n",
            "      BatchNorm2d-14          [-1, 128, 16, 16]             256\n",
            "           Conv2d-15          [-1, 128, 16, 16]         147,456\n",
            "      BatchNorm2d-16          [-1, 128, 16, 16]             256\n",
            "           Conv2d-17          [-1, 128, 16, 16]           8,192\n",
            "      BatchNorm2d-18          [-1, 128, 16, 16]             256\n",
            "       BasicBlock-19          [-1, 128, 16, 16]               0\n",
            "           Conv2d-20          [-1, 128, 16, 16]         147,456\n",
            "      BatchNorm2d-21          [-1, 128, 16, 16]             256\n",
            "           Conv2d-22          [-1, 128, 16, 16]         147,456\n",
            "      BatchNorm2d-23          [-1, 128, 16, 16]             256\n",
            "       BasicBlock-24          [-1, 128, 16, 16]               0\n",
            "           Conv2d-25            [-1, 256, 8, 8]         294,912\n",
            "      BatchNorm2d-26            [-1, 256, 8, 8]             512\n",
            "           Conv2d-27            [-1, 256, 8, 8]         589,824\n",
            "      BatchNorm2d-28            [-1, 256, 8, 8]             512\n",
            "           Conv2d-29            [-1, 256, 8, 8]          32,768\n",
            "      BatchNorm2d-30            [-1, 256, 8, 8]             512\n",
            "       BasicBlock-31            [-1, 256, 8, 8]               0\n",
            "           Conv2d-32            [-1, 256, 8, 8]         589,824\n",
            "      BatchNorm2d-33            [-1, 256, 8, 8]             512\n",
            "           Conv2d-34            [-1, 256, 8, 8]         589,824\n",
            "      BatchNorm2d-35            [-1, 256, 8, 8]             512\n",
            "       BasicBlock-36            [-1, 256, 8, 8]               0\n",
            "           Conv2d-37            [-1, 512, 4, 4]       1,179,648\n",
            "      BatchNorm2d-38            [-1, 512, 4, 4]           1,024\n",
            "           Conv2d-39            [-1, 512, 4, 4]       2,359,296\n",
            "      BatchNorm2d-40            [-1, 512, 4, 4]           1,024\n",
            "           Conv2d-41            [-1, 512, 4, 4]         131,072\n",
            "      BatchNorm2d-42            [-1, 512, 4, 4]           1,024\n",
            "       BasicBlock-43            [-1, 512, 4, 4]               0\n",
            "           Conv2d-44            [-1, 512, 4, 4]       2,359,296\n",
            "      BatchNorm2d-45            [-1, 512, 4, 4]           1,024\n",
            "           Conv2d-46            [-1, 512, 4, 4]       2,359,296\n",
            "      BatchNorm2d-47            [-1, 512, 4, 4]           1,024\n",
            "       BasicBlock-48            [-1, 512, 4, 4]               0\n",
            "           Linear-49                   [-1, 10]           5,130\n",
            "================================================================\n",
            "Total params: 11,173,962\n",
            "Trainable params: 11,173,962\n",
            "Non-trainable params: 0\n",
            "----------------------------------------------------------------\n",
            "Input size (MB): 0.01\n",
            "Forward/backward pass size (MB): 11.25\n",
            "Params size (MB): 42.63\n",
            "Estimated Total Size (MB): 53.89\n",
            "----------------------------------------------------------------\n"
          ]
        }
      ]
    },
    {
      "cell_type": "code",
      "source": [
        "print(net)"
      ],
      "metadata": {
        "colab": {
          "base_uri": "https://localhost:8080/"
        },
        "id": "HEfTvDWN2y6y",
        "outputId": "cbac7d45-6b58-4640-c470-b0e91fe3b763"
      },
      "execution_count": null,
      "outputs": [
        {
          "output_type": "stream",
          "name": "stdout",
          "text": [
            "ResNet(\n",
            "  (conv1): Conv2d(3, 64, kernel_size=(3, 3), stride=(1, 1), padding=(1, 1), bias=False)\n",
            "  (bn1): BatchNorm2d(64, eps=1e-05, momentum=0.1, affine=True, track_running_stats=True)\n",
            "  (layer1): Sequential(\n",
            "    (0): BasicBlock(\n",
            "      (conv1): Conv2d(64, 64, kernel_size=(3, 3), stride=(1, 1), padding=(1, 1), bias=False)\n",
            "      (bn1): BatchNorm2d(64, eps=1e-05, momentum=0.1, affine=True, track_running_stats=True)\n",
            "      (conv2): Conv2d(64, 64, kernel_size=(3, 3), stride=(1, 1), padding=(1, 1), bias=False)\n",
            "      (bn2): BatchNorm2d(64, eps=1e-05, momentum=0.1, affine=True, track_running_stats=True)\n",
            "      (shortcut): Sequential()\n",
            "    )\n",
            "    (1): BasicBlock(\n",
            "      (conv1): Conv2d(64, 64, kernel_size=(3, 3), stride=(1, 1), padding=(1, 1), bias=False)\n",
            "      (bn1): BatchNorm2d(64, eps=1e-05, momentum=0.1, affine=True, track_running_stats=True)\n",
            "      (conv2): Conv2d(64, 64, kernel_size=(3, 3), stride=(1, 1), padding=(1, 1), bias=False)\n",
            "      (bn2): BatchNorm2d(64, eps=1e-05, momentum=0.1, affine=True, track_running_stats=True)\n",
            "      (shortcut): Sequential()\n",
            "    )\n",
            "  )\n",
            "  (layer2): Sequential(\n",
            "    (0): BasicBlock(\n",
            "      (conv1): Conv2d(64, 128, kernel_size=(3, 3), stride=(2, 2), padding=(1, 1), bias=False)\n",
            "      (bn1): BatchNorm2d(128, eps=1e-05, momentum=0.1, affine=True, track_running_stats=True)\n",
            "      (conv2): Conv2d(128, 128, kernel_size=(3, 3), stride=(1, 1), padding=(1, 1), bias=False)\n",
            "      (bn2): BatchNorm2d(128, eps=1e-05, momentum=0.1, affine=True, track_running_stats=True)\n",
            "      (shortcut): Sequential(\n",
            "        (0): Conv2d(64, 128, kernel_size=(1, 1), stride=(2, 2), bias=False)\n",
            "        (1): BatchNorm2d(128, eps=1e-05, momentum=0.1, affine=True, track_running_stats=True)\n",
            "      )\n",
            "    )\n",
            "    (1): BasicBlock(\n",
            "      (conv1): Conv2d(128, 128, kernel_size=(3, 3), stride=(1, 1), padding=(1, 1), bias=False)\n",
            "      (bn1): BatchNorm2d(128, eps=1e-05, momentum=0.1, affine=True, track_running_stats=True)\n",
            "      (conv2): Conv2d(128, 128, kernel_size=(3, 3), stride=(1, 1), padding=(1, 1), bias=False)\n",
            "      (bn2): BatchNorm2d(128, eps=1e-05, momentum=0.1, affine=True, track_running_stats=True)\n",
            "      (shortcut): Sequential()\n",
            "    )\n",
            "  )\n",
            "  (layer3): Sequential(\n",
            "    (0): BasicBlock(\n",
            "      (conv1): Conv2d(128, 256, kernel_size=(3, 3), stride=(2, 2), padding=(1, 1), bias=False)\n",
            "      (bn1): BatchNorm2d(256, eps=1e-05, momentum=0.1, affine=True, track_running_stats=True)\n",
            "      (conv2): Conv2d(256, 256, kernel_size=(3, 3), stride=(1, 1), padding=(1, 1), bias=False)\n",
            "      (bn2): BatchNorm2d(256, eps=1e-05, momentum=0.1, affine=True, track_running_stats=True)\n",
            "      (shortcut): Sequential(\n",
            "        (0): Conv2d(128, 256, kernel_size=(1, 1), stride=(2, 2), bias=False)\n",
            "        (1): BatchNorm2d(256, eps=1e-05, momentum=0.1, affine=True, track_running_stats=True)\n",
            "      )\n",
            "    )\n",
            "    (1): BasicBlock(\n",
            "      (conv1): Conv2d(256, 256, kernel_size=(3, 3), stride=(1, 1), padding=(1, 1), bias=False)\n",
            "      (bn1): BatchNorm2d(256, eps=1e-05, momentum=0.1, affine=True, track_running_stats=True)\n",
            "      (conv2): Conv2d(256, 256, kernel_size=(3, 3), stride=(1, 1), padding=(1, 1), bias=False)\n",
            "      (bn2): BatchNorm2d(256, eps=1e-05, momentum=0.1, affine=True, track_running_stats=True)\n",
            "      (shortcut): Sequential()\n",
            "    )\n",
            "  )\n",
            "  (layer4): Sequential(\n",
            "    (0): BasicBlock(\n",
            "      (conv1): Conv2d(256, 512, kernel_size=(3, 3), stride=(2, 2), padding=(1, 1), bias=False)\n",
            "      (bn1): BatchNorm2d(512, eps=1e-05, momentum=0.1, affine=True, track_running_stats=True)\n",
            "      (conv2): Conv2d(512, 512, kernel_size=(3, 3), stride=(1, 1), padding=(1, 1), bias=False)\n",
            "      (bn2): BatchNorm2d(512, eps=1e-05, momentum=0.1, affine=True, track_running_stats=True)\n",
            "      (shortcut): Sequential(\n",
            "        (0): Conv2d(256, 512, kernel_size=(1, 1), stride=(2, 2), bias=False)\n",
            "        (1): BatchNorm2d(512, eps=1e-05, momentum=0.1, affine=True, track_running_stats=True)\n",
            "      )\n",
            "    )\n",
            "    (1): BasicBlock(\n",
            "      (conv1): Conv2d(512, 512, kernel_size=(3, 3), stride=(1, 1), padding=(1, 1), bias=False)\n",
            "      (bn1): BatchNorm2d(512, eps=1e-05, momentum=0.1, affine=True, track_running_stats=True)\n",
            "      (conv2): Conv2d(512, 512, kernel_size=(3, 3), stride=(1, 1), padding=(1, 1), bias=False)\n",
            "      (bn2): BatchNorm2d(512, eps=1e-05, momentum=0.1, affine=True, track_running_stats=True)\n",
            "      (shortcut): Sequential()\n",
            "    )\n",
            "  )\n",
            "  (linear): Linear(in_features=512, out_features=10, bias=True)\n",
            ")\n"
          ]
        }
      ]
    },
    {
      "cell_type": "markdown",
      "source": [
        "# C1 Train in Pytorch\n",
        "\n",
        "Create a main function that creates the DataLoaders for the training set and the neural network, then runs 5 epochs with a complete training phase on all the mini-batches of the training set. Write the code as device-agnostic, use the ArgumentParser to be able to read parameters from input, such as the use of Cuda, the data_path, the number of data loader workers, and the optimizer (as string, eg: ‘sgd’).\n",
        "\n",
        "For each minibatch calculate the training loss value, the top-1 training accuracy of the predictions, measured on training data.\n",
        "\n"
      ],
      "metadata": {
        "id": "hRoIGm0Y3xRY"
      }
    },
    {
      "cell_type": "code",
      "source": [
        "# parse = argparse.ArgumentParser(description='ResNet training CIFAR10')\n",
        "# args = parse.parse_args()"
      ],
      "metadata": {
        "id": "LJ1tF4fM3Kep"
      },
      "execution_count": null,
      "outputs": []
    },
    {
      "cell_type": "code",
      "source": [
        "device = 'cuda' if torch.cuda.is_available() else 'cpu'\n",
        "print(device)"
      ],
      "metadata": {
        "colab": {
          "base_uri": "https://localhost:8080/"
        },
        "id": "Q_ba1Fvy48i8",
        "outputId": "e74cb05a-b9ca-4638-fbc0-3c397fccfe6c"
      },
      "execution_count": 12,
      "outputs": [
        {
          "output_type": "stream",
          "name": "stdout",
          "text": [
            "cpu\n"
          ]
        }
      ]
    },
    {
      "cell_type": "code",
      "source": [
        "net = net.to(device)"
      ],
      "metadata": {
        "id": "Aoy3Utz15Jvk"
      },
      "execution_count": 13,
      "outputs": []
    },
    {
      "cell_type": "code",
      "source": [
        "lr = 1e-1\n",
        "weight_decay = 5e-4\n",
        "loss_fn = nn.CrossEntropyLoss()\n",
        "optimizer = optim.SGD(net.parameters(), lr=lr, momentum=0.9,weight_decay=weight_decay)\n",
        "#optim.Adam()"
      ],
      "metadata": {
        "id": "RxLOYgrt6Onh"
      },
      "execution_count": 14,
      "outputs": []
    },
    {
      "cell_type": "markdown",
      "source": [
        "## Train the model"
      ],
      "metadata": {
        "id": "9oG6DayPGN3I"
      }
    },
    {
      "cell_type": "code",
      "source": [
        "epoch = 1\n",
        "def train(epoch, train_loss_history, train_acc_history, data_loading_time, mini_training_time_total_epoch):\n",
        "  print('\\nEpoch: %d' % epoch)\n",
        "  net.train()\n",
        "  train_loss = 0 \n",
        "  correct = 0\n",
        "  total = 0\n",
        "  data_loading_time_total = 0\n",
        "  mini_training_time = []\n",
        "  for batch_idx, (inputs, targets) in enumerate(train_loader):\n",
        "    data_loading_time_start = time.time()\n",
        "    inputs, targets = inputs.to(device), targets.to(device)\n",
        "    data_loading_time_end = time.time()\n",
        "    data_loading_time_total += (data_loading_time_end - data_loading_time_start)\n",
        "\n",
        "    mini_training_time_start = time.time()\n",
        "    optimizer.zero_grad()\n",
        "    outputs = net(inputs)\n",
        "    loss = loss_fn(outputs, targets)\n",
        "    loss.backward()\n",
        "    optimizer.step()\n",
        "    mini_training_time_end = time.time()\n",
        "    mini_training_time.append(mini_training_time_end - mini_training_time_start)\n",
        "\n",
        "    train_loss += loss.item()\n",
        "    train_loss_history.append(loss.item())\n",
        "    _, predicted = outputs.max(1)\n",
        "    total += targets.size(0)\n",
        "    correct += predicted.eq(targets).sum().item()\n",
        "    train_acc_history.append(100. * correct / total)\n",
        "    print(\"\\nThe batch index: {0:d}, len of train loader: {1:d}, Loss: {2:.3f}, acc: {3:.3f}\".format(batch_idx,\n",
        "                                                                                             len(train_loader), \n",
        "                                                                                             train_loss / (batch_idx + 1),\n",
        "                                                                                             100. * correct / total)\n",
        "          )\n",
        "  data_loading_time.append(data_loading_time_total)\n",
        "  mini_training_time_total_epoch.append(mini_training_time)\n"
      ],
      "metadata": {
        "id": "feWG38fU-N4K"
      },
      "execution_count": 15,
      "outputs": []
    },
    {
      "cell_type": "markdown",
      "source": [
        "## Test the model"
      ],
      "metadata": {
        "id": "SQPrSmtYGPmQ"
      }
    },
    {
      "cell_type": "code",
      "source": [
        "\n",
        "def test(epoch, test_loss_history, test_acc_history):\n",
        "  global best_acc\n",
        "  net.eval()\n",
        "  test_loss = 0\n",
        "  correct = 0\n",
        "  total = 0\n",
        "  \n",
        "  with torch.no_grad():\n",
        "    for batch_idx, (inputs, targets) in enumerate(test_loader):     \n",
        "      inputs, targets = inputs.to(device), targets.to(device)\n",
        "\n",
        "      outputs = net(inputs)\n",
        "      loss = loss_fn(outputs, targets)\n",
        "\n",
        "      test_loss += loss.item()\n",
        "      test_loss_history.append(loss.item())\n",
        "      _, predicted = outputs.max(1)\n",
        "      total += targets.size(0)\n",
        "      correct += predicted.eq(targets).sum().item()\n",
        "      test_acc_history.append(100. * correct / total)\n",
        "      print(\"\\nThe batch index: {0}, len of test loader: {1}, Loss: {2:.3f}, acc: {3:.3f}\".format(batch_idx,\n",
        "                                                                                             len(test_loader), \n",
        "                                                                                             test_loss / (batch_idx + 1),\n",
        "                                                                                             100. * correct / total)\n",
        "          )"
      ],
      "metadata": {
        "id": "Qi7lXHPcFk2w"
      },
      "execution_count": null,
      "outputs": []
    },
    {
      "cell_type": "code",
      "source": [
        "test_loss_history = []\n",
        "test_acc_history = []\n",
        "train_loss_history = []\n",
        "train_acc_history = []\n",
        "total_train_time_epoch = []\n",
        "data_loading_time = []\n",
        "mini_training_time_total_epoch = []\n",
        "for epo in range(epoch):\n",
        "  train_time_start = time.time()\n",
        "  train(epo, train_loss_history, train_acc_history, data_loading_time, mini_training_time_total_epoch)\n",
        "  train_time_end = time.time()\n",
        "  total_train_time_epoch.append(train_time_end - train_time_start)\n",
        "  #test(epo, test_loss_history, test_acc_history)"
      ],
      "metadata": {
        "colab": {
          "base_uri": "https://localhost:8080/"
        },
        "id": "qNs13gwkNmKC",
        "outputId": "bb80c24e-e38e-4961-ac12-ca5a4fd94aae"
      },
      "execution_count": 16,
      "outputs": [
        {
          "output_type": "stream",
          "name": "stdout",
          "text": [
            "\n",
            "Epoch: 0\n",
            "\n",
            "The batch index: 0, len of train loader: 391, Loss: 2.427, acc: 12.500\n",
            "\n",
            "The batch index: 1, len of train loader: 391, Loss: 2.955, acc: 12.891\n",
            "\n",
            "The batch index: 2, len of train loader: 391, Loss: 3.376, acc: 10.417\n",
            "\n",
            "The batch index: 3, len of train loader: 391, Loss: 4.181, acc: 11.523\n",
            "\n",
            "The batch index: 4, len of train loader: 391, Loss: 4.459, acc: 11.719\n",
            "\n",
            "The batch index: 5, len of train loader: 391, Loss: 4.438, acc: 11.589\n",
            "\n",
            "The batch index: 6, len of train loader: 391, Loss: 4.319, acc: 11.161\n",
            "\n",
            "The batch index: 7, len of train loader: 391, Loss: 4.150, acc: 11.816\n",
            "\n",
            "The batch index: 8, len of train loader: 391, Loss: 4.016, acc: 11.806\n",
            "\n",
            "The batch index: 9, len of train loader: 391, Loss: 4.041, acc: 11.875\n",
            "\n",
            "The batch index: 10, len of train loader: 391, Loss: 3.944, acc: 11.790\n",
            "\n",
            "The batch index: 11, len of train loader: 391, Loss: 3.959, acc: 11.654\n",
            "\n",
            "The batch index: 12, len of train loader: 391, Loss: 3.922, acc: 11.538\n",
            "\n",
            "The batch index: 13, len of train loader: 391, Loss: 3.878, acc: 11.551\n",
            "\n",
            "The batch index: 14, len of train loader: 391, Loss: 3.853, acc: 11.302\n",
            "\n",
            "The batch index: 15, len of train loader: 391, Loss: 3.792, acc: 11.328\n",
            "\n",
            "The batch index: 16, len of train loader: 391, Loss: 3.720, acc: 11.029\n",
            "\n",
            "The batch index: 17, len of train loader: 391, Loss: 3.681, acc: 11.198\n",
            "\n",
            "The batch index: 18, len of train loader: 391, Loss: 3.634, acc: 11.143\n",
            "\n",
            "The batch index: 19, len of train loader: 391, Loss: 3.614, acc: 10.859\n",
            "\n",
            "The batch index: 20, len of train loader: 391, Loss: 3.556, acc: 10.826\n",
            "\n",
            "The batch index: 21, len of train loader: 391, Loss: 3.519, acc: 10.866\n",
            "\n",
            "The batch index: 22, len of train loader: 391, Loss: 3.507, acc: 10.904\n",
            "\n",
            "The batch index: 23, len of train loader: 391, Loss: 3.478, acc: 10.677\n",
            "\n",
            "The batch index: 24, len of train loader: 391, Loss: 3.450, acc: 10.750\n",
            "\n",
            "The batch index: 25, len of train loader: 391, Loss: 3.424, acc: 10.757\n",
            "\n",
            "The batch index: 26, len of train loader: 391, Loss: 3.402, acc: 10.648\n",
            "\n",
            "The batch index: 27, len of train loader: 391, Loss: 3.377, acc: 10.826\n",
            "\n",
            "The batch index: 28, len of train loader: 391, Loss: 3.350, acc: 10.830\n",
            "\n",
            "The batch index: 29, len of train loader: 391, Loss: 3.319, acc: 11.042\n",
            "\n",
            "The batch index: 30, len of train loader: 391, Loss: 3.296, acc: 11.164\n",
            "\n",
            "The batch index: 31, len of train loader: 391, Loss: 3.276, acc: 11.255\n",
            "\n",
            "The batch index: 32, len of train loader: 391, Loss: 3.251, acc: 11.435\n",
            "\n",
            "The batch index: 33, len of train loader: 391, Loss: 3.223, acc: 11.581\n",
            "\n",
            "The batch index: 34, len of train loader: 391, Loss: 3.198, acc: 11.808\n",
            "\n",
            "The batch index: 35, len of train loader: 391, Loss: 3.173, acc: 12.153\n",
            "\n",
            "The batch index: 36, len of train loader: 391, Loss: 3.151, acc: 12.162\n",
            "\n",
            "The batch index: 37, len of train loader: 391, Loss: 3.129, acc: 12.274\n",
            "\n",
            "The batch index: 38, len of train loader: 391, Loss: 3.108, acc: 12.340\n",
            "\n",
            "The batch index: 39, len of train loader: 391, Loss: 3.086, acc: 12.441\n",
            "\n",
            "The batch index: 40, len of train loader: 391, Loss: 3.065, acc: 12.538\n",
            "\n",
            "The batch index: 41, len of train loader: 391, Loss: 3.046, acc: 12.574\n",
            "\n",
            "The batch index: 42, len of train loader: 391, Loss: 3.030, acc: 12.645\n",
            "\n",
            "The batch index: 43, len of train loader: 391, Loss: 3.008, acc: 12.731\n",
            "\n",
            "The batch index: 44, len of train loader: 391, Loss: 2.987, acc: 12.882\n",
            "\n",
            "The batch index: 45, len of train loader: 391, Loss: 2.972, acc: 13.026\n",
            "\n",
            "The batch index: 46, len of train loader: 391, Loss: 2.955, acc: 13.098\n",
            "\n",
            "The batch index: 47, len of train loader: 391, Loss: 2.940, acc: 13.281\n",
            "\n",
            "The batch index: 48, len of train loader: 391, Loss: 2.924, acc: 13.329\n",
            "\n",
            "The batch index: 49, len of train loader: 391, Loss: 2.909, acc: 13.375\n",
            "\n",
            "The batch index: 50, len of train loader: 391, Loss: 2.897, acc: 13.450\n",
            "\n",
            "The batch index: 51, len of train loader: 391, Loss: 2.887, acc: 13.507\n",
            "\n",
            "The batch index: 52, len of train loader: 391, Loss: 2.873, acc: 13.665\n",
            "\n",
            "The batch index: 53, len of train loader: 391, Loss: 2.862, acc: 13.715\n",
            "\n",
            "The batch index: 54, len of train loader: 391, Loss: 2.852, acc: 13.750\n",
            "\n",
            "The batch index: 55, len of train loader: 391, Loss: 2.841, acc: 13.881\n",
            "\n",
            "The batch index: 56, len of train loader: 391, Loss: 2.831, acc: 14.021\n",
            "\n",
            "The batch index: 57, len of train loader: 391, Loss: 2.820, acc: 14.062\n",
            "\n",
            "The batch index: 58, len of train loader: 391, Loss: 2.807, acc: 14.208\n",
            "\n",
            "The batch index: 59, len of train loader: 391, Loss: 2.797, acc: 14.284\n",
            "\n",
            "The batch index: 60, len of train loader: 391, Loss: 2.786, acc: 14.331\n",
            "\n",
            "The batch index: 61, len of train loader: 391, Loss: 2.777, acc: 14.403\n",
            "\n",
            "The batch index: 62, len of train loader: 391, Loss: 2.765, acc: 14.459\n",
            "\n",
            "The batch index: 63, len of train loader: 391, Loss: 2.756, acc: 14.429\n",
            "\n",
            "The batch index: 64, len of train loader: 391, Loss: 2.746, acc: 14.495\n",
            "\n",
            "The batch index: 65, len of train loader: 391, Loss: 2.737, acc: 14.643\n",
            "\n",
            "The batch index: 66, len of train loader: 391, Loss: 2.728, acc: 14.692\n",
            "\n",
            "The batch index: 67, len of train loader: 391, Loss: 2.719, acc: 14.798\n",
            "\n",
            "The batch index: 68, len of train loader: 391, Loss: 2.711, acc: 14.878\n",
            "\n",
            "The batch index: 69, len of train loader: 391, Loss: 2.704, acc: 14.900\n",
            "\n",
            "The batch index: 70, len of train loader: 391, Loss: 2.693, acc: 15.119\n",
            "\n",
            "The batch index: 71, len of train loader: 391, Loss: 2.685, acc: 15.245\n",
            "\n",
            "The batch index: 72, len of train loader: 391, Loss: 2.676, acc: 15.293\n",
            "\n",
            "The batch index: 73, len of train loader: 391, Loss: 2.668, acc: 15.382\n",
            "\n",
            "The batch index: 74, len of train loader: 391, Loss: 2.659, acc: 15.490\n",
            "\n",
            "The batch index: 75, len of train loader: 391, Loss: 2.652, acc: 15.502\n",
            "\n",
            "The batch index: 76, len of train loader: 391, Loss: 2.643, acc: 15.655\n",
            "\n",
            "The batch index: 77, len of train loader: 391, Loss: 2.634, acc: 15.815\n",
            "\n",
            "The batch index: 78, len of train loader: 391, Loss: 2.626, acc: 15.951\n",
            "\n",
            "The batch index: 79, len of train loader: 391, Loss: 2.620, acc: 16.104\n",
            "\n",
            "The batch index: 80, len of train loader: 391, Loss: 2.614, acc: 16.233\n",
            "\n",
            "The batch index: 81, len of train loader: 391, Loss: 2.606, acc: 16.359\n",
            "\n",
            "The batch index: 82, len of train loader: 391, Loss: 2.598, acc: 16.434\n",
            "\n",
            "The batch index: 83, len of train loader: 391, Loss: 2.591, acc: 16.481\n",
            "\n",
            "The batch index: 84, len of train loader: 391, Loss: 2.585, acc: 16.507\n",
            "\n",
            "The batch index: 85, len of train loader: 391, Loss: 2.578, acc: 16.533\n",
            "\n",
            "The batch index: 86, len of train loader: 391, Loss: 2.572, acc: 16.622\n",
            "\n",
            "The batch index: 87, len of train loader: 391, Loss: 2.566, acc: 16.717\n",
            "\n",
            "The batch index: 88, len of train loader: 391, Loss: 2.561, acc: 16.740\n",
            "\n",
            "The batch index: 89, len of train loader: 391, Loss: 2.554, acc: 16.884\n",
            "\n",
            "The batch index: 90, len of train loader: 391, Loss: 2.548, acc: 16.999\n",
            "\n",
            "The batch index: 91, len of train loader: 391, Loss: 2.543, acc: 17.052\n",
            "\n",
            "The batch index: 92, len of train loader: 391, Loss: 2.537, acc: 17.171\n",
            "\n",
            "The batch index: 93, len of train loader: 391, Loss: 2.531, acc: 17.221\n",
            "\n",
            "The batch index: 94, len of train loader: 391, Loss: 2.524, acc: 17.344\n",
            "\n",
            "The batch index: 95, len of train loader: 391, Loss: 2.517, acc: 17.448\n",
            "\n",
            "The batch index: 96, len of train loader: 391, Loss: 2.512, acc: 17.486\n",
            "\n",
            "The batch index: 97, len of train loader: 391, Loss: 2.506, acc: 17.514\n",
            "\n",
            "The batch index: 98, len of train loader: 391, Loss: 2.501, acc: 17.503\n",
            "\n",
            "The batch index: 99, len of train loader: 391, Loss: 2.496, acc: 17.547\n",
            "\n",
            "The batch index: 100, len of train loader: 391, Loss: 2.491, acc: 17.628\n",
            "\n",
            "The batch index: 101, len of train loader: 391, Loss: 2.487, acc: 17.662\n",
            "\n",
            "The batch index: 102, len of train loader: 391, Loss: 2.482, acc: 17.711\n",
            "\n",
            "The batch index: 103, len of train loader: 391, Loss: 2.478, acc: 17.788\n",
            "\n",
            "The batch index: 104, len of train loader: 391, Loss: 2.474, acc: 17.872\n",
            "\n",
            "The batch index: 105, len of train loader: 391, Loss: 2.470, acc: 17.851\n",
            "\n",
            "The batch index: 106, len of train loader: 391, Loss: 2.466, acc: 17.896\n",
            "\n",
            "The batch index: 107, len of train loader: 391, Loss: 2.461, acc: 17.925\n",
            "\n",
            "The batch index: 108, len of train loader: 391, Loss: 2.457, acc: 18.026\n",
            "\n",
            "The batch index: 109, len of train loader: 391, Loss: 2.453, acc: 18.054\n",
            "\n",
            "The batch index: 110, len of train loader: 391, Loss: 2.449, acc: 18.074\n",
            "\n",
            "The batch index: 111, len of train loader: 391, Loss: 2.444, acc: 18.122\n",
            "\n",
            "The batch index: 112, len of train loader: 391, Loss: 2.440, acc: 18.176\n",
            "\n",
            "The batch index: 113, len of train loader: 391, Loss: 2.436, acc: 18.215\n",
            "\n",
            "The batch index: 114, len of train loader: 391, Loss: 2.431, acc: 18.302\n",
            "\n",
            "The batch index: 115, len of train loader: 391, Loss: 2.428, acc: 18.332\n",
            "\n",
            "The batch index: 116, len of train loader: 391, Loss: 2.423, acc: 18.463\n",
            "\n",
            "The batch index: 117, len of train loader: 391, Loss: 2.419, acc: 18.525\n",
            "\n",
            "The batch index: 118, len of train loader: 391, Loss: 2.416, acc: 18.573\n",
            "\n",
            "The batch index: 119, len of train loader: 391, Loss: 2.414, acc: 18.574\n",
            "\n",
            "The batch index: 120, len of train loader: 391, Loss: 2.411, acc: 18.621\n",
            "\n",
            "The batch index: 121, len of train loader: 391, Loss: 2.408, acc: 18.712\n",
            "\n",
            "The batch index: 122, len of train loader: 391, Loss: 2.404, acc: 18.737\n",
            "\n",
            "The batch index: 123, len of train loader: 391, Loss: 2.400, acc: 18.826\n",
            "\n",
            "The batch index: 124, len of train loader: 391, Loss: 2.396, acc: 18.906\n",
            "\n",
            "The batch index: 125, len of train loader: 391, Loss: 2.392, acc: 18.973\n",
            "\n",
            "The batch index: 126, len of train loader: 391, Loss: 2.388, acc: 19.039\n",
            "\n",
            "The batch index: 127, len of train loader: 391, Loss: 2.386, acc: 19.055\n",
            "\n",
            "The batch index: 128, len of train loader: 391, Loss: 2.382, acc: 19.089\n",
            "\n",
            "The batch index: 129, len of train loader: 391, Loss: 2.377, acc: 19.147\n",
            "\n",
            "The batch index: 130, len of train loader: 391, Loss: 2.374, acc: 19.150\n",
            "\n",
            "The batch index: 131, len of train loader: 391, Loss: 2.370, acc: 19.212\n",
            "\n",
            "The batch index: 132, len of train loader: 391, Loss: 2.366, acc: 19.279\n",
            "\n",
            "The batch index: 133, len of train loader: 391, Loss: 2.363, acc: 19.356\n",
            "\n",
            "The batch index: 134, len of train loader: 391, Loss: 2.359, acc: 19.398\n",
            "\n",
            "The batch index: 135, len of train loader: 391, Loss: 2.355, acc: 19.411\n",
            "\n",
            "The batch index: 136, len of train loader: 391, Loss: 2.352, acc: 19.491\n",
            "\n",
            "The batch index: 137, len of train loader: 391, Loss: 2.349, acc: 19.514\n",
            "\n",
            "The batch index: 138, len of train loader: 391, Loss: 2.344, acc: 19.644\n",
            "\n",
            "The batch index: 139, len of train loader: 391, Loss: 2.340, acc: 19.715\n",
            "\n",
            "The batch index: 140, len of train loader: 391, Loss: 2.338, acc: 19.747\n",
            "\n",
            "The batch index: 141, len of train loader: 391, Loss: 2.334, acc: 19.801\n",
            "\n",
            "The batch index: 142, len of train loader: 391, Loss: 2.332, acc: 19.815\n",
            "\n",
            "The batch index: 143, len of train loader: 391, Loss: 2.329, acc: 19.851\n",
            "\n",
            "The batch index: 144, len of train loader: 391, Loss: 2.325, acc: 19.881\n",
            "\n",
            "The batch index: 145, len of train loader: 391, Loss: 2.321, acc: 19.970\n",
            "\n",
            "The batch index: 146, len of train loader: 391, Loss: 2.318, acc: 20.052\n",
            "\n",
            "The batch index: 147, len of train loader: 391, Loss: 2.315, acc: 20.112\n",
            "\n",
            "The batch index: 148, len of train loader: 391, Loss: 2.312, acc: 20.192\n",
            "\n",
            "The batch index: 149, len of train loader: 391, Loss: 2.309, acc: 20.240\n",
            "\n",
            "The batch index: 150, len of train loader: 391, Loss: 2.306, acc: 20.276\n",
            "\n",
            "The batch index: 151, len of train loader: 391, Loss: 2.303, acc: 20.359\n",
            "\n",
            "The batch index: 152, len of train loader: 391, Loss: 2.301, acc: 20.384\n",
            "\n",
            "The batch index: 153, len of train loader: 391, Loss: 2.298, acc: 20.455\n",
            "\n",
            "The batch index: 154, len of train loader: 391, Loss: 2.295, acc: 20.469\n",
            "\n",
            "The batch index: 155, len of train loader: 391, Loss: 2.292, acc: 20.533\n",
            "\n",
            "The batch index: 156, len of train loader: 391, Loss: 2.289, acc: 20.606\n",
            "\n",
            "The batch index: 157, len of train loader: 391, Loss: 2.288, acc: 20.639\n",
            "\n",
            "The batch index: 158, len of train loader: 391, Loss: 2.285, acc: 20.696\n",
            "\n",
            "The batch index: 159, len of train loader: 391, Loss: 2.283, acc: 20.718\n",
            "\n",
            "The batch index: 160, len of train loader: 391, Loss: 2.280, acc: 20.822\n",
            "\n",
            "The batch index: 161, len of train loader: 391, Loss: 2.278, acc: 20.906\n",
            "\n",
            "The batch index: 162, len of train loader: 391, Loss: 2.275, acc: 20.955\n",
            "\n",
            "The batch index: 163, len of train loader: 391, Loss: 2.272, acc: 21.008\n",
            "\n",
            "The batch index: 164, len of train loader: 391, Loss: 2.269, acc: 21.080\n",
            "\n",
            "The batch index: 165, len of train loader: 391, Loss: 2.266, acc: 21.160\n",
            "\n",
            "The batch index: 166, len of train loader: 391, Loss: 2.263, acc: 21.215\n",
            "\n",
            "The batch index: 167, len of train loader: 391, Loss: 2.260, acc: 21.266\n",
            "\n",
            "The batch index: 168, len of train loader: 391, Loss: 2.258, acc: 21.334\n",
            "\n",
            "The batch index: 169, len of train loader: 391, Loss: 2.255, acc: 21.411\n",
            "\n",
            "The batch index: 170, len of train loader: 391, Loss: 2.252, acc: 21.455\n",
            "\n",
            "The batch index: 171, len of train loader: 391, Loss: 2.250, acc: 21.498\n",
            "\n",
            "The batch index: 172, len of train loader: 391, Loss: 2.247, acc: 21.518\n",
            "\n",
            "The batch index: 173, len of train loader: 391, Loss: 2.244, acc: 21.583\n",
            "\n",
            "The batch index: 174, len of train loader: 391, Loss: 2.242, acc: 21.643\n",
            "\n",
            "The batch index: 175, len of train loader: 391, Loss: 2.240, acc: 21.675\n",
            "\n",
            "The batch index: 176, len of train loader: 391, Loss: 2.238, acc: 21.734\n",
            "\n",
            "The batch index: 177, len of train loader: 391, Loss: 2.235, acc: 21.831\n",
            "\n",
            "The batch index: 178, len of train loader: 391, Loss: 2.233, acc: 21.849\n",
            "\n",
            "The batch index: 179, len of train loader: 391, Loss: 2.231, acc: 21.905\n",
            "\n",
            "The batch index: 180, len of train loader: 391, Loss: 2.229, acc: 21.970\n",
            "\n",
            "The batch index: 181, len of train loader: 391, Loss: 2.226, acc: 22.008\n",
            "\n",
            "The batch index: 182, len of train loader: 391, Loss: 2.224, acc: 22.037\n",
            "\n",
            "The batch index: 183, len of train loader: 391, Loss: 2.221, acc: 22.109\n",
            "\n",
            "The batch index: 184, len of train loader: 391, Loss: 2.219, acc: 22.183\n",
            "\n",
            "The batch index: 185, len of train loader: 391, Loss: 2.217, acc: 22.203\n",
            "\n",
            "The batch index: 186, len of train loader: 391, Loss: 2.214, acc: 22.255\n",
            "\n",
            "The batch index: 187, len of train loader: 391, Loss: 2.211, acc: 22.307\n",
            "\n",
            "The batch index: 188, len of train loader: 391, Loss: 2.209, acc: 22.342\n",
            "\n",
            "The batch index: 189, len of train loader: 391, Loss: 2.207, acc: 22.397\n",
            "\n",
            "The batch index: 190, len of train loader: 391, Loss: 2.205, acc: 22.480\n",
            "\n",
            "The batch index: 191, len of train loader: 391, Loss: 2.203, acc: 22.546\n",
            "\n",
            "The batch index: 192, len of train loader: 391, Loss: 2.201, acc: 22.559\n",
            "\n",
            "The batch index: 193, len of train loader: 391, Loss: 2.198, acc: 22.632\n",
            "\n",
            "The batch index: 194, len of train loader: 391, Loss: 2.196, acc: 22.692\n",
            "\n",
            "The batch index: 195, len of train loader: 391, Loss: 2.194, acc: 22.764\n",
            "\n",
            "The batch index: 196, len of train loader: 391, Loss: 2.191, acc: 22.851\n",
            "\n",
            "The batch index: 197, len of train loader: 391, Loss: 2.189, acc: 22.857\n",
            "\n",
            "The batch index: 198, len of train loader: 391, Loss: 2.188, acc: 22.884\n",
            "\n",
            "The batch index: 199, len of train loader: 391, Loss: 2.186, acc: 22.898\n",
            "\n",
            "The batch index: 200, len of train loader: 391, Loss: 2.184, acc: 22.952\n",
            "\n",
            "The batch index: 201, len of train loader: 391, Loss: 2.182, acc: 23.012\n",
            "\n",
            "The batch index: 202, len of train loader: 391, Loss: 2.180, acc: 23.076\n",
            "\n",
            "The batch index: 203, len of train loader: 391, Loss: 2.178, acc: 23.108\n",
            "\n",
            "The batch index: 204, len of train loader: 391, Loss: 2.176, acc: 23.117\n",
            "\n",
            "The batch index: 205, len of train loader: 391, Loss: 2.175, acc: 23.157\n",
            "\n",
            "The batch index: 206, len of train loader: 391, Loss: 2.173, acc: 23.192\n",
            "\n",
            "The batch index: 207, len of train loader: 391, Loss: 2.171, acc: 23.223\n",
            "\n",
            "The batch index: 208, len of train loader: 391, Loss: 2.168, acc: 23.269\n",
            "\n",
            "The batch index: 209, len of train loader: 391, Loss: 2.167, acc: 23.318\n",
            "\n",
            "The batch index: 210, len of train loader: 391, Loss: 2.165, acc: 23.330\n",
            "\n",
            "The batch index: 211, len of train loader: 391, Loss: 2.163, acc: 23.404\n",
            "\n",
            "The batch index: 212, len of train loader: 391, Loss: 2.161, acc: 23.445\n",
            "\n",
            "The batch index: 213, len of train loader: 391, Loss: 2.160, acc: 23.474\n",
            "\n",
            "The batch index: 214, len of train loader: 391, Loss: 2.158, acc: 23.510\n",
            "\n",
            "The batch index: 215, len of train loader: 391, Loss: 2.157, acc: 23.524\n",
            "\n",
            "The batch index: 216, len of train loader: 391, Loss: 2.155, acc: 23.553\n",
            "\n",
            "The batch index: 217, len of train loader: 391, Loss: 2.153, acc: 23.610\n",
            "\n",
            "The batch index: 218, len of train loader: 391, Loss: 2.152, acc: 23.691\n",
            "\n",
            "The batch index: 219, len of train loader: 391, Loss: 2.149, acc: 23.743\n",
            "\n",
            "The batch index: 220, len of train loader: 391, Loss: 2.147, acc: 23.798\n",
            "\n",
            "The batch index: 221, len of train loader: 391, Loss: 2.146, acc: 23.811\n",
            "\n",
            "The batch index: 222, len of train loader: 391, Loss: 2.145, acc: 23.854\n",
            "\n",
            "The batch index: 223, len of train loader: 391, Loss: 2.144, acc: 23.870\n",
            "\n",
            "The batch index: 224, len of train loader: 391, Loss: 2.141, acc: 23.931\n",
            "\n",
            "The batch index: 225, len of train loader: 391, Loss: 2.140, acc: 23.973\n",
            "\n",
            "The batch index: 226, len of train loader: 391, Loss: 2.139, acc: 24.026\n",
            "\n",
            "The batch index: 227, len of train loader: 391, Loss: 2.137, acc: 24.034\n",
            "\n",
            "The batch index: 228, len of train loader: 391, Loss: 2.136, acc: 24.065\n",
            "\n",
            "The batch index: 229, len of train loader: 391, Loss: 2.133, acc: 24.137\n",
            "\n",
            "The batch index: 230, len of train loader: 391, Loss: 2.132, acc: 24.182\n",
            "\n",
            "The batch index: 231, len of train loader: 391, Loss: 2.131, acc: 24.239\n",
            "\n",
            "The batch index: 232, len of train loader: 391, Loss: 2.128, acc: 24.296\n",
            "\n",
            "The batch index: 233, len of train loader: 391, Loss: 2.128, acc: 24.316\n",
            "\n",
            "The batch index: 234, len of train loader: 391, Loss: 2.126, acc: 24.358\n",
            "\n",
            "The batch index: 235, len of train loader: 391, Loss: 2.124, acc: 24.374\n",
            "\n",
            "The batch index: 236, len of train loader: 391, Loss: 2.123, acc: 24.393\n",
            "\n",
            "The batch index: 237, len of train loader: 391, Loss: 2.121, acc: 24.429\n",
            "\n",
            "The batch index: 238, len of train loader: 391, Loss: 2.119, acc: 24.510\n",
            "\n",
            "The batch index: 239, len of train loader: 391, Loss: 2.117, acc: 24.564\n",
            "\n",
            "The batch index: 240, len of train loader: 391, Loss: 2.115, acc: 24.621\n",
            "\n",
            "The batch index: 241, len of train loader: 391, Loss: 2.113, acc: 24.651\n",
            "\n",
            "The batch index: 242, len of train loader: 391, Loss: 2.111, acc: 24.707\n",
            "\n",
            "The batch index: 243, len of train loader: 391, Loss: 2.110, acc: 24.725\n",
            "\n",
            "The batch index: 244, len of train loader: 391, Loss: 2.109, acc: 24.793\n",
            "\n",
            "The batch index: 245, len of train loader: 391, Loss: 2.107, acc: 24.838\n",
            "\n",
            "The batch index: 246, len of train loader: 391, Loss: 2.106, acc: 24.889\n",
            "\n",
            "The batch index: 247, len of train loader: 391, Loss: 2.103, acc: 24.956\n",
            "\n",
            "The batch index: 248, len of train loader: 391, Loss: 2.101, acc: 25.003\n",
            "\n",
            "The batch index: 249, len of train loader: 391, Loss: 2.099, acc: 25.075\n",
            "\n",
            "The batch index: 250, len of train loader: 391, Loss: 2.098, acc: 25.121\n",
            "\n",
            "The batch index: 251, len of train loader: 391, Loss: 2.096, acc: 25.180\n",
            "\n",
            "The batch index: 252, len of train loader: 391, Loss: 2.094, acc: 25.250\n",
            "\n",
            "The batch index: 253, len of train loader: 391, Loss: 2.093, acc: 25.283\n",
            "\n",
            "The batch index: 254, len of train loader: 391, Loss: 2.091, acc: 25.352\n",
            "\n",
            "The batch index: 255, len of train loader: 391, Loss: 2.089, acc: 25.412\n",
            "\n",
            "The batch index: 256, len of train loader: 391, Loss: 2.087, acc: 25.468\n",
            "\n",
            "The batch index: 257, len of train loader: 391, Loss: 2.086, acc: 25.515\n",
            "\n",
            "The batch index: 258, len of train loader: 391, Loss: 2.084, acc: 25.579\n",
            "\n",
            "The batch index: 259, len of train loader: 391, Loss: 2.084, acc: 25.604\n",
            "\n",
            "The batch index: 260, len of train loader: 391, Loss: 2.082, acc: 25.659\n",
            "\n",
            "The batch index: 261, len of train loader: 391, Loss: 2.080, acc: 25.719\n",
            "\n",
            "The batch index: 262, len of train loader: 391, Loss: 2.078, acc: 25.752\n",
            "\n",
            "The batch index: 263, len of train loader: 391, Loss: 2.077, acc: 25.808\n",
            "\n",
            "The batch index: 264, len of train loader: 391, Loss: 2.076, acc: 25.855\n",
            "\n",
            "The batch index: 265, len of train loader: 391, Loss: 2.074, acc: 25.896\n",
            "\n",
            "The batch index: 266, len of train loader: 391, Loss: 2.073, acc: 25.919\n",
            "\n",
            "The batch index: 267, len of train loader: 391, Loss: 2.071, acc: 25.977\n",
            "\n",
            "The batch index: 268, len of train loader: 391, Loss: 2.070, acc: 26.011\n",
            "\n",
            "The batch index: 269, len of train loader: 391, Loss: 2.068, acc: 26.062\n",
            "\n",
            "The batch index: 270, len of train loader: 391, Loss: 2.067, acc: 26.121\n",
            "\n",
            "The batch index: 271, len of train loader: 391, Loss: 2.065, acc: 26.172\n",
            "\n",
            "The batch index: 272, len of train loader: 391, Loss: 2.064, acc: 26.213\n",
            "\n",
            "The batch index: 273, len of train loader: 391, Loss: 2.063, acc: 26.252\n",
            "\n",
            "The batch index: 274, len of train loader: 391, Loss: 2.061, acc: 26.304\n",
            "\n",
            "The batch index: 275, len of train loader: 391, Loss: 2.059, acc: 26.359\n",
            "\n",
            "The batch index: 276, len of train loader: 391, Loss: 2.057, acc: 26.410\n",
            "\n",
            "The batch index: 277, len of train loader: 391, Loss: 2.055, acc: 26.475\n",
            "\n",
            "The batch index: 278, len of train loader: 391, Loss: 2.054, acc: 26.532\n",
            "\n",
            "The batch index: 279, len of train loader: 391, Loss: 2.052, acc: 26.593\n",
            "\n",
            "The batch index: 280, len of train loader: 391, Loss: 2.051, acc: 26.621\n",
            "\n",
            "The batch index: 281, len of train loader: 391, Loss: 2.049, acc: 26.654\n",
            "\n",
            "The batch index: 282, len of train loader: 391, Loss: 2.048, acc: 26.706\n",
            "\n",
            "The batch index: 283, len of train loader: 391, Loss: 2.047, acc: 26.744\n",
            "\n",
            "The batch index: 284, len of train loader: 391, Loss: 2.045, acc: 26.798\n",
            "\n",
            "The batch index: 285, len of train loader: 391, Loss: 2.043, acc: 26.847\n",
            "\n",
            "The batch index: 286, len of train loader: 391, Loss: 2.042, acc: 26.895\n",
            "\n",
            "The batch index: 287, len of train loader: 391, Loss: 2.041, acc: 26.907\n",
            "\n",
            "The batch index: 288, len of train loader: 391, Loss: 2.040, acc: 26.954\n",
            "\n",
            "The batch index: 289, len of train loader: 391, Loss: 2.038, acc: 26.996\n",
            "\n",
            "The batch index: 290, len of train loader: 391, Loss: 2.037, acc: 27.038\n",
            "\n",
            "The batch index: 291, len of train loader: 391, Loss: 2.035, acc: 27.076\n",
            "\n",
            "The batch index: 292, len of train loader: 391, Loss: 2.034, acc: 27.120\n",
            "\n",
            "The batch index: 293, len of train loader: 391, Loss: 2.033, acc: 27.147\n",
            "\n",
            "The batch index: 294, len of train loader: 391, Loss: 2.031, acc: 27.206\n",
            "\n",
            "The batch index: 295, len of train loader: 391, Loss: 2.029, acc: 27.249\n",
            "\n",
            "The batch index: 296, len of train loader: 391, Loss: 2.028, acc: 27.296\n",
            "\n",
            "The batch index: 297, len of train loader: 391, Loss: 2.027, acc: 27.323\n",
            "\n",
            "The batch index: 298, len of train loader: 391, Loss: 2.025, acc: 27.383\n",
            "\n",
            "The batch index: 299, len of train loader: 391, Loss: 2.024, acc: 27.401\n",
            "\n",
            "The batch index: 300, len of train loader: 391, Loss: 2.023, acc: 27.437\n",
            "\n",
            "The batch index: 301, len of train loader: 391, Loss: 2.022, acc: 27.468\n",
            "\n",
            "The batch index: 302, len of train loader: 391, Loss: 2.021, acc: 27.504\n",
            "\n",
            "The batch index: 303, len of train loader: 391, Loss: 2.020, acc: 27.534\n",
            "\n",
            "The batch index: 304, len of train loader: 391, Loss: 2.018, acc: 27.567\n",
            "\n",
            "The batch index: 305, len of train loader: 391, Loss: 2.017, acc: 27.591\n",
            "\n",
            "The batch index: 306, len of train loader: 391, Loss: 2.016, acc: 27.598\n",
            "\n",
            "The batch index: 307, len of train loader: 391, Loss: 2.015, acc: 27.625\n",
            "\n",
            "The batch index: 308, len of train loader: 391, Loss: 2.014, acc: 27.657\n",
            "\n",
            "The batch index: 309, len of train loader: 391, Loss: 2.013, acc: 27.686\n",
            "\n",
            "The batch index: 310, len of train loader: 391, Loss: 2.012, acc: 27.716\n",
            "\n",
            "The batch index: 311, len of train loader: 391, Loss: 2.011, acc: 27.729\n",
            "\n",
            "The batch index: 312, len of train loader: 391, Loss: 2.009, acc: 27.756\n",
            "\n",
            "The batch index: 313, len of train loader: 391, Loss: 2.008, acc: 27.787\n",
            "\n",
            "The batch index: 314, len of train loader: 391, Loss: 2.007, acc: 27.830\n",
            "\n",
            "The batch index: 315, len of train loader: 391, Loss: 2.006, acc: 27.856\n",
            "\n",
            "The batch index: 316, len of train loader: 391, Loss: 2.005, acc: 27.891\n",
            "\n",
            "The batch index: 317, len of train loader: 391, Loss: 2.004, acc: 27.901\n",
            "\n",
            "The batch index: 318, len of train loader: 391, Loss: 2.003, acc: 27.936\n",
            "\n",
            "The batch index: 319, len of train loader: 391, Loss: 2.002, acc: 27.966\n",
            "\n",
            "The batch index: 320, len of train loader: 391, Loss: 2.000, acc: 28.011\n",
            "\n",
            "The batch index: 321, len of train loader: 391, Loss: 1.999, acc: 28.021\n",
            "\n",
            "The batch index: 322, len of train loader: 391, Loss: 1.998, acc: 28.091\n",
            "\n",
            "The batch index: 323, len of train loader: 391, Loss: 1.996, acc: 28.130\n",
            "\n",
            "The batch index: 324, len of train loader: 391, Loss: 1.995, acc: 28.173\n",
            "\n",
            "The batch index: 325, len of train loader: 391, Loss: 1.994, acc: 28.206\n",
            "\n",
            "The batch index: 326, len of train loader: 391, Loss: 1.994, acc: 28.206\n",
            "\n",
            "The batch index: 327, len of train loader: 391, Loss: 1.993, acc: 28.244\n",
            "\n",
            "The batch index: 328, len of train loader: 391, Loss: 1.991, acc: 28.301\n",
            "\n",
            "The batch index: 329, len of train loader: 391, Loss: 1.990, acc: 28.336\n",
            "\n",
            "The batch index: 330, len of train loader: 391, Loss: 1.989, acc: 28.385\n",
            "\n",
            "The batch index: 331, len of train loader: 391, Loss: 1.988, acc: 28.405\n",
            "\n",
            "The batch index: 332, len of train loader: 391, Loss: 1.987, acc: 28.423\n",
            "\n",
            "The batch index: 333, len of train loader: 391, Loss: 1.986, acc: 28.452\n",
            "\n",
            "The batch index: 334, len of train loader: 391, Loss: 1.985, acc: 28.468\n",
            "\n",
            "The batch index: 335, len of train loader: 391, Loss: 1.984, acc: 28.499\n",
            "\n",
            "The batch index: 336, len of train loader: 391, Loss: 1.984, acc: 28.517\n",
            "\n",
            "The batch index: 337, len of train loader: 391, Loss: 1.983, acc: 28.534\n",
            "\n",
            "The batch index: 338, len of train loader: 391, Loss: 1.982, acc: 28.554\n",
            "\n",
            "The batch index: 339, len of train loader: 391, Loss: 1.981, acc: 28.587\n",
            "\n",
            "The batch index: 340, len of train loader: 391, Loss: 1.980, acc: 28.624\n",
            "\n",
            "The batch index: 341, len of train loader: 391, Loss: 1.979, acc: 28.660\n",
            "\n",
            "The batch index: 342, len of train loader: 391, Loss: 1.978, acc: 28.676\n",
            "\n",
            "The batch index: 343, len of train loader: 391, Loss: 1.977, acc: 28.711\n",
            "\n",
            "The batch index: 344, len of train loader: 391, Loss: 1.976, acc: 28.736\n",
            "\n",
            "The batch index: 345, len of train loader: 391, Loss: 1.975, acc: 28.773\n",
            "\n",
            "The batch index: 346, len of train loader: 391, Loss: 1.974, acc: 28.798\n",
            "\n",
            "The batch index: 347, len of train loader: 391, Loss: 1.973, acc: 28.823\n",
            "\n",
            "The batch index: 348, len of train loader: 391, Loss: 1.972, acc: 28.873\n",
            "\n",
            "The batch index: 349, len of train loader: 391, Loss: 1.971, acc: 28.911\n",
            "\n",
            "The batch index: 350, len of train loader: 391, Loss: 1.970, acc: 28.944\n",
            "\n",
            "The batch index: 351, len of train loader: 391, Loss: 1.968, acc: 28.971\n",
            "\n",
            "The batch index: 352, len of train loader: 391, Loss: 1.968, acc: 28.984\n",
            "\n",
            "The batch index: 353, len of train loader: 391, Loss: 1.967, acc: 28.997\n",
            "\n",
            "The batch index: 354, len of train loader: 391, Loss: 1.966, acc: 29.023\n",
            "\n",
            "The batch index: 355, len of train loader: 391, Loss: 1.965, acc: 29.045\n",
            "\n",
            "The batch index: 356, len of train loader: 391, Loss: 1.964, acc: 29.046\n",
            "\n",
            "The batch index: 357, len of train loader: 391, Loss: 1.963, acc: 29.068\n",
            "\n",
            "The batch index: 358, len of train loader: 391, Loss: 1.963, acc: 29.104\n",
            "\n",
            "The batch index: 359, len of train loader: 391, Loss: 1.961, acc: 29.143\n",
            "\n",
            "The batch index: 360, len of train loader: 391, Loss: 1.960, acc: 29.170\n",
            "\n",
            "The batch index: 361, len of train loader: 391, Loss: 1.959, acc: 29.198\n",
            "\n",
            "The batch index: 362, len of train loader: 391, Loss: 1.958, acc: 29.227\n",
            "\n",
            "The batch index: 363, len of train loader: 391, Loss: 1.957, acc: 29.260\n",
            "\n",
            "The batch index: 364, len of train loader: 391, Loss: 1.956, acc: 29.298\n",
            "\n",
            "The batch index: 365, len of train loader: 391, Loss: 1.955, acc: 29.329\n",
            "\n",
            "The batch index: 366, len of train loader: 391, Loss: 1.953, acc: 29.370\n",
            "\n",
            "The batch index: 367, len of train loader: 391, Loss: 1.953, acc: 29.384\n",
            "\n",
            "The batch index: 368, len of train loader: 391, Loss: 1.952, acc: 29.404\n",
            "\n",
            "The batch index: 369, len of train loader: 391, Loss: 1.951, acc: 29.436\n",
            "\n",
            "The batch index: 370, len of train loader: 391, Loss: 1.951, acc: 29.450\n",
            "\n",
            "The batch index: 371, len of train loader: 391, Loss: 1.950, acc: 29.471\n",
            "\n",
            "The batch index: 372, len of train loader: 391, Loss: 1.949, acc: 29.503\n",
            "\n",
            "The batch index: 373, len of train loader: 391, Loss: 1.948, acc: 29.535\n",
            "\n",
            "The batch index: 374, len of train loader: 391, Loss: 1.948, acc: 29.562\n",
            "\n",
            "The batch index: 375, len of train loader: 391, Loss: 1.947, acc: 29.604\n",
            "\n",
            "The batch index: 376, len of train loader: 391, Loss: 1.946, acc: 29.627\n",
            "\n",
            "The batch index: 377, len of train loader: 391, Loss: 1.945, acc: 29.648\n",
            "\n",
            "The batch index: 378, len of train loader: 391, Loss: 1.945, acc: 29.669\n",
            "\n",
            "The batch index: 379, len of train loader: 391, Loss: 1.944, acc: 29.688\n",
            "\n",
            "The batch index: 380, len of train loader: 391, Loss: 1.943, acc: 29.724\n",
            "\n",
            "The batch index: 381, len of train loader: 391, Loss: 1.942, acc: 29.751\n",
            "\n",
            "The batch index: 382, len of train loader: 391, Loss: 1.941, acc: 29.781\n",
            "\n",
            "The batch index: 383, len of train loader: 391, Loss: 1.940, acc: 29.816\n",
            "\n",
            "The batch index: 384, len of train loader: 391, Loss: 1.940, acc: 29.834\n",
            "\n",
            "The batch index: 385, len of train loader: 391, Loss: 1.939, acc: 29.866\n",
            "\n",
            "The batch index: 386, len of train loader: 391, Loss: 1.938, acc: 29.889\n",
            "\n",
            "The batch index: 387, len of train loader: 391, Loss: 1.936, acc: 29.935\n",
            "\n",
            "The batch index: 388, len of train loader: 391, Loss: 1.935, acc: 29.969\n",
            "\n",
            "The batch index: 389, len of train loader: 391, Loss: 1.934, acc: 30.006\n",
            "\n",
            "The batch index: 390, len of train loader: 391, Loss: 1.933, acc: 30.032\n"
          ]
        }
      ]
    },
    {
      "cell_type": "code",
      "source": [
        "print(train_loss_history)\n",
        "print(train_acc_history)"
      ],
      "metadata": {
        "id": "3BKi9Fn9vRzW",
        "outputId": "fac1ef33-32c8-49f9-9138-f401ad9a9f2a",
        "colab": {
          "base_uri": "https://localhost:8080/"
        }
      },
      "execution_count": null,
      "outputs": [
        {
          "output_type": "stream",
          "name": "stdout",
          "text": [
            "[2.4798059463500977, 3.0533688068389893, 4.024833679199219, 5.3804097175598145, 5.666123390197754, 5.001592636108398, 2.787261724472046, 3.6739261150360107, 3.472196340560913, 2.9860050678253174, 3.952331781387329, 2.648815631866455, 2.863147497177124, 2.385802984237671, 2.390947103500366, 2.3660616874694824, 3.3050408363342285, 2.376126527786255, 2.4748082160949707, 2.122134208679199, 2.0512964725494385, 2.3324739933013916, 2.1150999069213867, 2.903667449951172, 2.217615842819214, 3.0273563861846924, 2.859140396118164, 2.6627681255340576, 2.840726137161255, 2.283576726913452, 2.308002471923828, 2.8420562744140625, 2.3007850646972656, 2.332951307296753, 2.279984474182129, 2.081688642501831, 1.9397892951965332, 2.002274751663208, 2.0432610511779785, 2.0615530014038086, 2.3094372749328613, 2.429448127746582, 2.491537094116211, 2.0833311080932617, 2.0744853019714355, 2.0577776432037354, 2.0882606506347656, 2.1125378608703613, 1.956144094467163, 1.9901010990142822, 2.0014491081237793, 2.0187900066375732, 1.9339492321014404, 2.4356539249420166, 2.2785744667053223, 2.060275077819824, 2.27177357673645, 1.88612961769104, 1.9245299100875854, 1.955876111984253, 2.041003704071045, 2.1056549549102783, 1.9982666969299316, 1.943584680557251, 2.025547742843628, 1.9793668985366821, 2.119056224822998, 1.9471580982208252, 1.9176603555679321, 2.2012038230895996, 1.9694746732711792, 2.060378313064575, 1.8731389045715332, 1.8916054964065552, 2.1051371097564697, 1.9674874544143677, 1.8713542222976685, 1.9720823764801025, 1.9185662269592285, 2.130767583847046, 2.084834575653076, 1.97330641746521, 1.9227079153060913, 1.9440624713897705, 1.9688316583633423, 1.9189674854278564, 2.035684108734131, 1.8634748458862305, 1.8802658319473267, 2.0285444259643555, 2.064687490463257, 1.8555063009262085, 1.870501160621643, 1.8715968132019043, 1.942960262298584, 2.040532350540161, 2.02144455909729, 1.9059494733810425, 1.9511594772338867, 1.8139365911483765, 1.972747564315796, 1.894047498703003, 1.8696569204330444, 1.7840379476547241, 1.9067707061767578, 1.8163186311721802, 1.8402918577194214, 1.9388149976730347, 1.831961750984192, 1.933364748954773, 1.81600821018219, 1.847996473312378, 1.8809700012207031, 1.8290051221847534, 1.905423879623413, 1.958495855331421, 1.775787115097046, 1.9131731986999512, 1.9859395027160645, 1.8524634838104248, 1.866474986076355, 1.864701271057129, 1.8764489889144897, 1.8822386264801025, 2.0922441482543945, 1.9358559846878052, 1.962764024734497, 1.9466530084609985, 1.7325267791748047, 1.9965852499008179, 1.8730323314666748, 1.8704615831375122, 1.845088005065918, 1.8607555627822876, 1.7946090698242188, 1.8099583387374878, 1.7725775241851807, 1.7863001823425293, 1.8201251029968262, 1.7814624309539795, 2.0702028274536133, 1.7355889081954956, 1.8603330850601196, 1.8419585227966309, 1.8014459609985352, 1.8437325954437256, 1.8170342445373535, 1.7332935333251953, 1.8824580907821655, 1.7051204442977905, 1.7823699712753296, 1.7275664806365967, 1.930890440940857, 1.6852055788040161, 1.939168930053711, 1.8151293992996216, 1.8912303447723389, 1.8170650005340576, 1.7487722635269165, 1.6981250047683716, 1.8365743160247803, 1.819480061531067, 1.7098268270492554, 1.905359148979187, 1.8162802457809448, 1.941185474395752, 1.7096214294433594, 1.6045175790786743, 1.7817597389221191, 1.7631518840789795, 1.9042471647262573, 1.859740972518921, 1.8224806785583496, 1.6118556261062622, 1.7304805517196655, 1.9205878973007202, 1.8174043893814087, 1.698087215423584, 1.8048052787780762, 1.9363876581192017, 1.7623863220214844, 1.7570031881332397, 1.7552720308303833, 1.8152614831924438, 1.9916958808898926, 1.7560862302780151, 1.791420817375183, 1.7397027015686035, 1.8153213262557983, 1.7563985586166382, 1.7615481615066528, 1.8337904214859009, 1.837165355682373, 1.6952012777328491, 1.7772235870361328, 1.7965152263641357, 1.732129693031311, 1.7784099578857422, 1.6933789253234863, 1.7229193449020386, 1.7994521856307983, 1.8204768896102905, 1.6469990015029907, 1.7675725221633911, 1.6398133039474487, 1.76191246509552, 1.6128463745117188, 1.8099480867385864, 1.775326132774353, 1.870773196220398, 1.628078579902649, 1.731414556503296, 1.816341757774353, 1.6250104904174805, 1.691288948059082, 1.564192533493042, 1.7920488119125366, 1.725177526473999, 1.8494220972061157, 1.6130990982055664, 1.8215630054473877, 1.7182257175445557, 1.7607369422912598, 1.748705267906189, 1.6953078508377075, 1.714195966720581, 1.6649359464645386, 1.7579433917999268, 1.7695093154907227, 1.5630255937576294, 1.8490041494369507, 1.6663137674331665, 1.5438628196716309, 1.7067021131515503, 1.7702317237854004, 1.888806939125061, 1.5449833869934082, 1.6306443214416504, 1.6301873922348022, 1.550126075744629, 1.7764275074005127, 1.5741554498672485, 1.6145926713943481, 1.6356136798858643, 1.618190884590149, 1.6178675889968872, 1.597050428390503, 1.63448965549469, 1.6386511325836182, 1.6268024444580078, 1.726882815361023, 1.5194212198257446, 1.820751667022705, 1.6050790548324585, 1.8253878355026245, 1.6921731233596802, 1.648495078086853, 1.587111473083496, 1.6114583015441895, 1.694632887840271, 1.703107237815857, 1.7249383926391602, 1.7638754844665527, 1.7404249906539917, 1.6700968742370605, 1.6043189764022827, 1.706322193145752, 1.7234270572662354, 1.6084483861923218, 1.5331610441207886, 1.6958564519882202, 1.5037063360214233, 1.654363989830017, 1.7580705881118774, 1.6586731672286987, 1.52234947681427, 1.5565063953399658, 1.6981070041656494, 1.737488031387329, 1.7535994052886963, 1.6915318965911865, 1.7558138370513916, 1.791379690170288, 1.5528925657272339, 1.5762616395950317, 1.680612564086914, 1.779855489730835, 1.68898606300354, 1.8415526151657104, 1.8113305568695068, 1.5248494148254395, 1.554370403289795, 1.7528128623962402, 1.8724757432937622, 1.5448647737503052, 1.7748538255691528, 1.6985892057418823, 1.5868035554885864, 1.6552319526672363, 1.5939464569091797, 1.6269057989120483, 1.6021785736083984, 1.541671872138977, 1.6831825971603394, 1.7112981081008911, 1.6489802598953247, 1.463828444480896, 1.595887303352356, 1.5998613834381104, 1.5734374523162842, 1.513407826423645, 1.6959247589111328, 1.70724618434906, 1.4059937000274658, 1.6238832473754883, 1.601751685142517, 1.4575951099395752, 1.4471046924591064, 1.6025910377502441, 1.5443240404129028, 1.5596462488174438, 1.6037064790725708, 1.5275262594223022, 1.6019057035446167, 1.6495548486709595, 1.4473130702972412, 1.4842411279678345, 1.5516445636749268, 1.484615445137024, 1.4507883787155151, 1.7056303024291992, 1.522578239440918, 1.7394758462905884, 1.5639400482177734, 1.6673569679260254, 1.4944384098052979, 1.5704407691955566, 1.5801682472229004, 1.7583259344100952, 1.520324468612671, 1.6798090934753418, 1.594273328781128, 1.6091580390930176, 1.7795500755310059, 1.5244652032852173, 1.6852244138717651, 1.7413872480392456, 1.4850752353668213, 1.6406896114349365, 1.7279174327850342, 1.5975127220153809, 1.5011157989501953, 1.6134992837905884, 1.660059928894043, 1.573054313659668, 1.5541256666183472, 1.8821862936019897, 1.4567770957946777, 1.636134386062622, 1.593209981918335, 1.6219730377197266, 1.6233755350112915, 1.5196638107299805, 1.5345488786697388, 1.5163908004760742, 1.5960195064544678, 1.5913876295089722, 1.5441795587539673, 1.7319120168685913, 1.5287235975265503, 1.639076590538025, 1.431964635848999, 1.573822259902954, 1.5774884223937988, 1.7354106903076172, 1.59324312210083, 1.4973870515823364, 1.5179922580718994, 1.5735242366790771, 1.7397634983062744, 1.635448694229126, 1.4920991659164429, 1.533578872680664, 1.5985381603240967, 1.5405662059783936, 1.5899696350097656, 1.5253360271453857, 1.4790087938308716, 1.6033154726028442, 1.4742017984390259, 1.8736406564712524]\n",
            "[8.59375, 12.109375, 13.020833333333334, 12.109375, 12.03125, 11.458333333333334, 12.388392857142858, 12.59765625, 12.065972222222221, 12.109375, 11.931818181818182, 12.044270833333334, 12.5, 12.834821428571429, 12.916666666666666, 13.0859375, 13.28125, 13.671875, 13.733552631578947, 14.1015625, 14.397321428571429, 14.524147727272727, 14.809782608695652, 15.169270833333334, 15.59375, 15.745192307692308, 15.943287037037036, 16.266741071428573, 16.35237068965517, 16.432291666666668, 16.633064516129032, 16.650390625, 16.666666666666668, 16.567095588235293, 16.473214285714285, 16.44965277777778, 16.680743243243242, 16.920230263157894, 17.00721153846154, 17.34375, 17.58765243902439, 17.61532738095238, 17.550872093023255, 17.595880681818183, 17.65625, 17.646059782608695, 17.819148936170212, 17.87109375, 18.0484693877551, 18.21875, 18.45894607843137, 18.629807692307693, 18.77948113207547, 18.778935185185187, 18.920454545454547, 19.04296875, 19.120065789473685, 19.275323275862068, 19.42531779661017, 19.557291666666668, 19.659323770491802, 19.657258064516128, 19.7296626984127, 19.81201171875, 19.951923076923077, 19.992897727272727, 19.951026119402986, 20.059742647058822, 20.097373188405797, 20.256696428571427, 20.356514084507044, 20.496961805555557, 20.612157534246574, 20.79814189189189, 20.75, 20.83675986842105, 20.850243506493506, 20.943509615384617, 21.014636075949365, 21.005859375, 21.026234567901234, 21.02705792682927, 21.121987951807228, 21.196056547619047, 21.14889705882353, 21.15734011627907, 21.210488505747126, 21.333451704545453, 21.427317415730336, 21.397569444444443, 21.402815934065934, 21.45889945652174, 21.56418010752688, 21.70877659574468, 21.751644736842106, 21.7529296875, 21.85083762886598, 21.92283163265306, 21.946022727272727, 22.0625, 22.09158415841584, 22.173713235294116, 22.239077669902912, 22.333233173076923, 22.410714285714285, 22.39829009433962, 22.444509345794394, 22.47540509259259, 22.491399082568808, 22.54971590909091, 22.60698198198198, 22.670200892857142, 22.718473451327434, 22.779605263157894, 22.880434782608695, 22.986260775862068, 23.043536324786324, 23.11970338983051, 23.142069327731093, 23.196614583333332, 23.19214876033058, 23.219774590163933, 23.266006097560975, 23.26108870967742, 23.3, 23.350694444444443, 23.339074803149607, 23.431396484375, 23.56468023255814, 23.58173076923077, 23.592557251908396, 23.650568181818183, 23.690084586466167, 23.73484141791045, 23.79050925925926, 23.81089154411765, 23.927919708029197, 23.986639492753625, 24.055755395683452, 24.090401785714285, 24.09685283687943, 24.119718309859156, 24.131337412587413, 24.19162326388889, 24.251077586206897, 24.282962328767123, 24.309098639455783, 24.340160472972972, 24.381291946308725, 24.442708333333332, 24.477442052980134, 24.537417763157894, 24.53533496732026, 24.63474025974026, 24.682459677419356, 24.71454326923077, 24.76612261146497, 24.80221518987342, 24.85750786163522, 24.9267578125, 24.932065217391305, 24.932484567901234, 25.02396472392638, 25.06669207317073, 25.113636363636363, 25.15530873493976, 25.23390718562874, 25.339471726190474, 25.37444526627219, 25.441176470588236, 25.466008771929825, 25.51780523255814, 25.532875722543352, 25.61512212643678, 25.651785714285715, 25.679154829545453, 25.715042372881356, 25.724192415730336, 25.78125, 25.80295138888889, 25.84167817679558, 25.892857142857142, 25.934938524590162, 25.96382472826087, 25.975506756756758, 26.024865591397848, 26.03191844919786, 26.097074468085108, 26.13260582010582, 26.175986842105264, 26.218913612565444, 26.273600260416668, 26.287240932642487, 26.353092783505154, 26.378205128205128, 26.41501913265306, 26.45939086294416, 26.515151515151516, 26.558574120603016, 26.578125, 26.624689054726367, 26.639851485148515, 26.689501231527093, 26.708026960784313, 26.783536585365855, 26.809010922330096, 26.86820652173913, 26.893028846153847, 26.947517942583733, 26.97172619047619, 27.047541469194314, 27.096845518867923, 27.101672535211268, 27.142961448598133, 27.205668604651162, 27.278645833333332, 27.32214861751152, 27.36166857798165, 27.407962328767123, 27.475142045454547, 27.488687782805428, 27.509149774774773, 27.539938340807176, 27.577427455357142, 27.631944444444443, 27.679065265486727, 27.73953744493392, 27.765213815789473, 27.81795851528384, 27.880434782608695, 27.888257575757574, 27.936422413793103, 28.007644849785407, 28.06156517094017, 28.10505319148936, 28.115068855932204, 28.184335443037973, 28.233324579831933, 28.294979079497907, 28.33984375, 28.358402489626556, 28.422004132231404, 28.456147119341562, 28.493212090163933, 28.54591836734694, 28.601371951219512, 28.64056174089069, 28.66998487903226, 28.708584337349397, 28.76875, 28.806648406374503, 28.856646825396826, 28.859930830039527, 28.897022637795274, 28.893995098039216, 28.9276123046875, 28.96704766536965, 28.99406492248062, 29.011824324324323, 29.044471153846153, 29.055914750957854, 29.091125954198475, 29.111216730038024, 29.145951704545453, 29.14504716981132, 29.19407894736842, 29.216409176029963, 29.24148787313433, 29.27799721189591, 29.33449074074074, 29.355973247232473, 29.408892463235293, 29.429945054945055, 29.465100364963504, 29.50284090909091, 29.55163043478261, 29.571863718411553, 29.59757194244604, 29.62869623655914, 29.656808035714285, 29.69306049822064, 29.71797429078014, 29.717866607773853, 29.750770246478872, 29.780701754385966, 29.824082167832167, 29.842661149825783, 29.866536458333332, 29.868620242214533, 29.86260775862069, 29.891537800687285, 29.92294520547945, 29.930140784982935, 29.942602040816325, 29.970868644067796, 29.99366554054054, 30.016308922558924, 30.03617869127517, 30.061141304347824, 30.111979166666668, 30.139119601328904, 30.176427980132452, 30.216068481848186, 30.250308388157894, 30.276639344262296, 30.320669934640524, 30.37713762214984, 30.420556006493506, 30.461165048543688, 30.493951612903224, 30.534063504823152, 30.55138221153846, 30.576078274760384, 30.620521496815286, 30.652281746031747, 30.678896360759495, 30.725059148264986, 30.778301886792452, 30.78712774294671, 30.81298828125, 30.853290498442366, 30.88363742236025, 30.925890092879257, 30.972704475308642, 30.99278846153846, 31.0295245398773, 31.077981651376145, 31.114233993902438, 31.169262917933132, 31.20975378787879, 31.22875755287009, 31.266472138554217, 31.29222972972973, 31.34824101796407, 31.357276119402986, 31.403459821428573, 31.4308234421365, 31.464959319526628, 31.46893436578171, 31.511948529411764, 31.522635630498534, 31.546966374269005, 31.564322157434404, 31.583848110465116, 31.616847826086957, 31.63836705202312, 31.659762247838618, 31.690014367816094, 31.702184813753583, 31.707589285714285, 31.737446581196583, 31.77157315340909, 31.792227337110482, 31.817178672316384, 31.828785211267604, 31.85129915730337, 31.849614845938376, 31.891585195530727, 31.918088440111422, 31.93359375, 31.97498268698061, 31.992403314917127, 32.016184573002754, 32.04842032967033, 32.06763698630137, 32.09742144808743, 32.13130108991825, 32.16711956521739, 32.1900406504065, 32.20861486486486, 32.23340633423181, 32.29586693548387, 32.32448056300268, 32.35711898395722, 32.360416666666666, 32.384474734042556, 32.408405172413794, 32.45907738095238, 32.497114116094984, 32.50205592105263, 32.51722440944882, 32.538448952879584, 32.57180156657964, 32.598876953125, 32.623782467532465, 32.65665479274612, 32.693394702842376, 32.71585051546392, 32.72814910025707, 32.77644230769231, 32.766]\n"
          ]
        }
      ]
    },
    {
      "cell_type": "markdown",
      "source": [
        "# C2 Time measurement of code in C1\n",
        "\n",
        "Report the running time (by using time.perf_counter() or other timers you find comfortable with) for the following sections of the code:\n",
        "1. Data-loading time for each epoch\n",
        "2. Training (i.e., mini-batch calculation) time for each epoch\n",
        "3. Total running time for each epoch Run 5 epochs.\n"
      ],
      "metadata": {
        "id": "psZ58lNrTKJM"
      }
    },
    {
      "cell_type": "code",
      "source": [
        "print(data_loading_time)\n",
        "print(mini_training_time_total_epoch)\n",
        "print(total_train_time_epoch)"
      ],
      "metadata": {
        "id": "08gSdHw_O4pX",
        "outputId": "f81dc230-a5db-4803-b495-b6d6cf8e6a1b",
        "colab": {
          "base_uri": "https://localhost:8080/"
        }
      },
      "execution_count": 17,
      "outputs": [
        {
          "output_type": "stream",
          "name": "stdout",
          "text": [
            "[0.025910615921020508]\n",
            "[[9.8288254737854, 9.229211568832397, 9.083222389221191, 9.254616260528564, 9.248799324035645, 8.93960690498352, 9.019183874130249, 8.874441146850586, 8.796023845672607, 8.84339690208435, 8.808263778686523, 8.769039630889893, 8.77456283569336, 8.892950296401978, 9.018012285232544, 9.10795783996582, 9.037927150726318, 8.96465516090393, 8.989676713943481, 8.940425872802734, 8.975197315216064, 9.015435695648193, 9.097066879272461, 9.020205020904541, 9.049197673797607, 9.114433526992798, 9.027028322219849, 8.920456409454346, 8.930718183517456, 8.92421269416809, 9.002710819244385, 8.89394760131836, 9.220908880233765, 9.317677974700928, 9.228999853134155, 9.336296796798706, 9.500483751296997, 9.271661043167114, 9.18738865852356, 9.037784337997437, 8.843547105789185, 8.799776792526245, 8.852999210357666, 8.889435052871704, 8.899832248687744, 9.089813470840454, 9.047771215438843, 8.829323053359985, 9.00752568244934, 8.918273210525513, 8.952221632003784, 10.056881666183472, 9.096276998519897, 8.821613550186157, 8.870235204696655, 8.954817056655884, 8.943140029907227, 8.854025840759277, 8.852349281311035, 8.805067777633667, 8.763338088989258, 8.831694841384888, 8.839495420455933, 9.040584564208984, 9.032593011856079, 9.182679891586304, 9.049603462219238, 8.936424732208252, 9.013648986816406, 9.018890619277954, 8.832172393798828, 8.882814884185791, 9.040956258773804, 8.97447681427002, 8.955468893051147, 8.92835807800293, 8.842600107192993, 8.816137790679932, 8.913371324539185, 8.792285442352295, 9.043927907943726, 9.126359701156616, 8.977501153945923, 8.86028242111206, 8.935467720031738, 8.815418481826782, 8.827087640762329, 8.74082088470459, 8.82175064086914, 8.751921892166138, 8.754040479660034, 8.824194431304932, 9.120884418487549, 8.853250503540039, 8.756604194641113, 8.788935422897339, 8.848313093185425, 8.723447561264038, 8.822696924209595, 8.85306167602539, 8.965633869171143, 8.859020709991455, 8.940268754959106, 8.889500856399536, 8.738340854644775, 8.860905170440674, 8.759233713150024, 8.734201431274414, 8.774048566818237, 8.822947025299072, 8.924522399902344, 8.78671932220459, 8.975450992584229, 8.745124816894531, 8.73632550239563, 8.77208662033081, 8.814589738845825, 8.826348304748535, 8.883504629135132, 9.095896005630493, 8.83577561378479, 8.917581558227539, 8.902981996536255, 8.789050579071045, 8.861861228942871, 8.819798469543457, 8.90592646598816, 8.967902183532715, 9.031183958053589, 9.049649715423584, 9.094617366790771, 8.922502994537354, 8.88883352279663, 8.773665189743042, 8.89427661895752, 8.99619460105896, 8.893831014633179, 9.190347909927368, 9.186583280563354, 9.231385469436646, 8.977842807769775, 8.792861938476562, 8.84470272064209, 8.80272650718689, 8.909647226333618, 8.81913137435913, 8.97256875038147, 9.016045093536377, 8.96823000907898, 8.769270896911621, 8.690526723861694, 8.815263509750366, 8.948922157287598, 8.779730796813965, 8.965498208999634, 8.787079572677612, 8.874783039093018, 9.00534439086914, 8.721843242645264, 8.80306339263916, 8.780686855316162, 8.843134880065918, 8.731781244277954, 8.763872385025024, 9.092660427093506, 9.065198421478271, 8.834920644760132, 8.806743621826172, 8.784281492233276, 8.699400663375854, 8.67594599723816, 8.823180437088013, 8.855839967727661, 8.890311479568481, 8.802300691604614, 8.703615188598633, 8.751449584960938, 8.801030158996582, 8.825953960418701, 8.681190729141235, 8.877121210098267, 9.011507272720337, 8.90382432937622, 8.729333400726318, 8.787370204925537, 8.834407806396484, 8.879671812057495, 8.7989501953125, 8.859241962432861, 8.83938455581665, 8.95865797996521, 8.98929500579834, 8.802801132202148, 8.880138874053955, 8.779121398925781, 8.893733263015747, 8.932371377944946, 8.888998031616211, 8.998850107192993, 8.84882926940918, 9.185896873474121, 8.894264221191406, 8.749020338058472, 8.785525560379028, 8.88303518295288, 8.902992725372314, 8.771811246871948, 8.952185153961182, 9.03464150428772, 9.193486452102661, 9.372648477554321, 9.25492000579834, 9.036569833755493, 9.108211040496826, 9.046538352966309, 9.340546369552612, 9.399477005004883, 9.20561933517456, 9.478116035461426, 9.476513385772705, 9.592603921890259, 9.506684303283691, 9.175280570983887, 8.815841674804688, 8.771537780761719, 8.854208946228027, 8.927806854248047, 8.724050760269165, 8.736784934997559, 8.819819688796997, 9.177491426467896, 9.196299314498901, 8.795698404312134, 8.859724044799805, 8.772546529769897, 8.754342555999756, 8.707639217376709, 8.720649242401123, 8.903313159942627, 8.878405094146729, 8.968162059783936, 8.799719095230103, 8.720993518829346, 8.97233533859253, 8.985337257385254, 9.280257225036621, 9.168060779571533, 9.314495325088501, 9.275558233261108, 9.207228183746338, 9.151942491531372, 9.208990573883057, 9.087333679199219, 9.448478937149048, 9.023534297943115, 8.927637100219727, 8.824323415756226, 8.969566106796265, 9.051440000534058, 8.94419002532959, 9.223567962646484, 9.245259046554565, 9.193224430084229, 9.339751482009888, 9.463263034820557, 9.244579315185547, 9.232702732086182, 9.053008794784546, 9.120445251464844, 9.180548429489136, 9.049339294433594, 9.096989631652832, 8.83816647529602, 9.157886028289795, 9.090191125869751, 9.093835353851318, 8.851438045501709, 8.779660940170288, 8.93753981590271, 9.00558590888977, 8.79684591293335, 8.843864917755127, 9.006284236907959, 9.087889671325684, 9.222414016723633, 8.867045164108276, 8.907254934310913, 8.952687978744507, 9.071505546569824, 8.771398305892944, 8.751198291778564, 8.9241783618927, 9.024524211883545, 9.004935503005981, 9.122849941253662, 9.270596981048584, 8.943106412887573, 8.818097591400146, 8.88235878944397, 8.93466830253601, 8.831191778182983, 8.855829000473022, 8.858830213546753, 8.970675945281982, 8.978970527648926, 8.757978677749634, 8.665761470794678, 8.7285795211792, 8.830045223236084, 8.72462010383606, 8.75797724723816, 8.807509899139404, 8.856578588485718, 8.977048397064209, 8.729822397232056, 8.741456270217896, 8.792007207870483, 8.73127293586731, 8.788614511489868, 8.80864930152893, 8.874197244644165, 8.748294591903687, 8.757635354995728, 8.932568788528442, 8.844398736953735, 8.821869373321533, 8.778098583221436, 8.800106048583984, 8.936553955078125, 8.83604097366333, 8.712863206863403, 8.716837882995605, 8.862468004226685, 9.035550117492676, 8.852874994277954, 8.851653814315796, 8.976277589797974, 9.01068115234375, 8.994355916976929, 8.813020944595337, 8.93791651725769, 8.861582279205322, 8.811948299407959, 8.865547180175781, 8.888100862503052, 8.895135402679443, 8.805371761322021, 8.841614484786987, 8.7367582321167, 8.811123371124268, 8.826292037963867, 8.756806135177612, 8.991606950759888, 8.936469078063965, 8.772804975509644, 8.948105573654175, 8.77646780014038, 8.847227811813354, 8.84197735786438, 8.863246440887451, 8.83353066444397, 8.842321157455444, 8.923579692840576, 9.03171181678772, 8.802808284759521, 8.835658311843872, 8.862220287322998, 8.838626384735107, 8.827248096466064, 8.906781435012817, 8.766008853912354, 8.962655305862427, 9.016915559768677, 8.833077907562256, 8.88671875, 8.687785387039185, 8.821572542190552, 8.93524432182312, 8.780112266540527, 8.972141981124878, 8.886658906936646, 8.973567008972168, 9.020760536193848, 8.789954423904419, 8.87432861328125, 8.850567817687988, 8.846656322479248, 8.902772665023804, 8.890895366668701, 8.840400218963623, 5.653778553009033]]\n",
            "[3492.334536075592]\n"
          ]
        }
      ]
    },
    {
      "cell_type": "markdown",
      "source": [
        "# C3: I/O optimizaiton starting from code in C2\n",
        "1. Report the total time spent for the Dataloader varying the number of workers starting from zero and increment the number of workers by 4 (0,4,8,12,16...) until the I/O time doesn’t decrease anymore.\n",
        "2. Report how many workers are needed for best runtime performance."
      ],
      "metadata": {
        "id": "cfl8v6eiUA0B"
      }
    },
    {
      "cell_type": "code",
      "source": [
        "\n",
        "def num_worker_time(num_worker_data_loading_time):\n",
        "  data_loading_time_total = 0\n",
        "  for batch_idx, (inputs, targets) in enumerate(train_loader):\n",
        "    data_loading_time_start = time.time()\n",
        "    inputs, targets = inputs.to(device), targets.to(device)\n",
        "    data_loading_time_end = time.time()\n",
        "    data_loading_time_total += (data_loading_time_end - data_loading_time_start)\n",
        "\n",
        "  num_worker_data_loading_time.append(data_loading_time_total)"
      ],
      "metadata": {
        "id": "LDI_8QBTus0f"
      },
      "execution_count": null,
      "outputs": []
    },
    {
      "cell_type": "code",
      "source": [
        "num_workers = [0,4,8,12,16]\n",
        "batch_size = 128\n",
        "num_worker_data_loading_time = []\n",
        "# train_loss_history_c3 = []\n",
        "# train_acc_history_c3 = []\n",
        "for i in num_workers:\n",
        "  print(\"new net: {}\".format(i))\n",
        "  train_loader = torch.utils.data.DataLoader(train_set, batch_size = batch_size,shuffle = True, num_workers = i)\n",
        "  num_worker_time(num_worker_data_loading_time)\n",
        "  # train(epo, train_loss_history_c3, train_acc_history_c3)\n",
        "\n",
        "\n",
        "#test_loader = torch.utils.data.DataLoader(test_set, batch_size = batch_size, shuffle = True, num_workers = 2)\n",
        "#print(len(train_loader))"
      ],
      "metadata": {
        "id": "YFnul8Dcw0f7",
        "outputId": "0755727b-6bf5-4e5b-fb03-dba3225249b7",
        "colab": {
          "base_uri": "https://localhost:8080/"
        }
      },
      "execution_count": null,
      "outputs": [
        {
          "output_type": "stream",
          "name": "stdout",
          "text": [
            "new net: 0\n",
            "new net: 4\n"
          ]
        },
        {
          "output_type": "stream",
          "name": "stderr",
          "text": [
            "/usr/local/lib/python3.7/dist-packages/torch/utils/data/dataloader.py:481: UserWarning: This DataLoader will create 4 worker processes in total. Our suggested max number of worker in current system is 2, which is smaller than what this DataLoader is going to create. Please be aware that excessive worker creation might get DataLoader running slow or even freeze, lower the worker number to avoid potential slowness/freeze if necessary.\n",
            "  cpuset_checked))\n"
          ]
        },
        {
          "output_type": "stream",
          "name": "stdout",
          "text": [
            "new net: 8\n"
          ]
        },
        {
          "output_type": "stream",
          "name": "stderr",
          "text": [
            "/usr/local/lib/python3.7/dist-packages/torch/utils/data/dataloader.py:481: UserWarning: This DataLoader will create 8 worker processes in total. Our suggested max number of worker in current system is 2, which is smaller than what this DataLoader is going to create. Please be aware that excessive worker creation might get DataLoader running slow or even freeze, lower the worker number to avoid potential slowness/freeze if necessary.\n",
            "  cpuset_checked))\n"
          ]
        },
        {
          "output_type": "stream",
          "name": "stdout",
          "text": [
            "new net: 12\n"
          ]
        },
        {
          "output_type": "stream",
          "name": "stderr",
          "text": [
            "/usr/local/lib/python3.7/dist-packages/torch/utils/data/dataloader.py:481: UserWarning: This DataLoader will create 12 worker processes in total. Our suggested max number of worker in current system is 2, which is smaller than what this DataLoader is going to create. Please be aware that excessive worker creation might get DataLoader running slow or even freeze, lower the worker number to avoid potential slowness/freeze if necessary.\n",
            "  cpuset_checked))\n"
          ]
        },
        {
          "output_type": "stream",
          "name": "stdout",
          "text": [
            "new net: 16\n"
          ]
        },
        {
          "output_type": "stream",
          "name": "stderr",
          "text": [
            "/usr/local/lib/python3.7/dist-packages/torch/utils/data/dataloader.py:481: UserWarning: This DataLoader will create 16 worker processes in total. Our suggested max number of worker in current system is 2, which is smaller than what this DataLoader is going to create. Please be aware that excessive worker creation might get DataLoader running slow or even freeze, lower the worker number to avoid potential slowness/freeze if necessary.\n",
            "  cpuset_checked))\n"
          ]
        }
      ]
    },
    {
      "cell_type": "code",
      "source": [
        "print(num_worker_data_loading_time)"
      ],
      "metadata": {
        "id": "ZLMmveXGxIxc",
        "outputId": "7b3f3950-40f3-483d-ab10-e5d8095f40fc",
        "colab": {
          "base_uri": "https://localhost:8080/"
        }
      },
      "execution_count": null,
      "outputs": [
        {
          "output_type": "stream",
          "name": "stdout",
          "text": [
            "[0.18175649642944336, 0.28144383430480957, 0.3166325092315674, 0.38622260093688965, 0.4294719696044922]\n"
          ]
        }
      ]
    },
    {
      "cell_type": "markdown",
      "source": [
        "# C4: Profiling starting from code in C3\n",
        "\n",
        "Compare data-loading and computing time for runs using 1 worker and the number of workers needed for best performance found in C3 and explain (in a few words) the differences if there are any.\n",
        "\n",
        "https://deeplizard.com/learn/video/kWVgvsejXsE"
      ],
      "metadata": {
        "id": "BVytLIIcUQJQ"
      }
    },
    {
      "cell_type": "markdown",
      "source": [
        "# C5: Training in GPUs V.S. CPUs\n",
        "\n",
        "Report the average running time over 5 epochs using the GPU vs using the CPU (using the number of I/O workers found in C3.2)\n",
        "\n",
        "From C3.2, we got the num_worker is 2\n",
        "\n",
        "When I run on GPU, for eapoch, the running time is [15.246890783309937, 15.200483560562134, 15.430280685424805, 15.49782395362854, 15.517560005187988], so the average is 15.378607797622681"
      ],
      "metadata": {
        "id": "0NGzeNimUdnD"
      }
    },
    {
      "cell_type": "markdown",
      "source": [
        "# C6: Experimenting with different optimizers\n",
        "\n",
        "Run 5 epochs with the GPU-enabled code and the optimal number of I/O workers. For each epoch, report the average training time, training loss, and top-1 training accuracy using these Optimizers: SGD, SGD with Nesterov, Adagrad, Adadelta, and Adam. Note please use the same default hyper-parameters: learning rate 0.1, weight decay 5e-4, and momentum 0.9 (when it applies) for all these optimizers.\n",
        "\n",
        "For SGD, the average training time for each epoch is\n",
        "\n",
        "\n",
        "\n",
        "\n",
        "\n",
        "  [15.246890783309937, 15.200483560562134, 15.430280685424805, 15.49782395362854, 15.517560005187988]. The average training loss for each epoch is [1.988328962069948, 1.5172575635983205, 1.2595373507960679, 1.0342020011314041, 0.8647981308915121]. The average top-1 accuracy for each epoch is [20.432928652711716, 41.66062737103774, 52.627654280262696, 61.37652780733207, 68.19055114819494]\n",
        "\n",
        "For sgd_nes\n",
        "[28.066128730773926, 27.760812282562256, 27.782509565353394, 27.850111961364746, 27.89001965522766]\n",
        "\n",
        "21.97610816966551\n",
        "2.034897204860092\n",
        "42.179984230383624\n",
        "1.4966033151387559\n",
        "53.260814863356245\n",
        "1.2289859423856906\n",
        "62.75977421860316\n",
        "1.0070519291836282\n",
        "68.43943285593723\n",
        "0.8746370840865327\n",
        "\n",
        "For Adagrad\n",
        "[27.82266616821289, 27.819855451583862, 27.813787937164307, 27.76784348487854, 27.80567979812622]\n",
        "\n",
        "20.429481381731158\n",
        "2.2077978568918564\n",
        "36.11329664655515\n",
        "1.654606541709217\n",
        "45.41344120363851\n",
        "1.401751711850276\n",
        "55.15370209333665\n",
        "1.1763134882273272\n",
        "61.52070716787579\n",
        "1.035776418493227\n",
        "\n",
        "For Adadelta\n",
        "[28.552342891693115, 28.53111982345581, 28.53568124771118, 28.60840344429016, 28.68533706665039]\n",
        "\n",
        "38.71571214083069\n",
        "1.368905180707917\n",
        "67.03340301211422\n",
        "0.8550770942817258\n",
        "75.50370191827194\n",
        "0.6677756459664201\n",
        "80.14308876379626\n",
        "0.5646420402447586\n",
        "82.27434027954197\n",
        "0.4976608041302322\n",
        "\n",
        "For Adam\n",
        "\n",
        "[15.157033205032349, 14.685014009475708, 14.631178617477417, 14.67825698852539, 14.682486057281494]\n",
        "\n",
        "22.925146263828232\n",
        "1.8820709124245607\n",
        "44.936456226266635\n",
        "1.387173262093683\n",
        "55.79855950928615\n",
        "1.1834112846333047\n",
        "60.312539668888135\n",
        "1.0820588461883234\n",
        "62.93866078717115\n",
        "1.0340378732632494\n"
      ],
      "metadata": {
        "id": "xwLIr7EBUuFM"
      }
    },
    {
      "cell_type": "code",
      "source": [
        "'''\n",
        "|optimizers | epoch |         time         |      train loss     |   train top-1 acc    |\n",
        "|   SGD     |   1   | 15.246890783309937   |  1.988328962069948  |  20.432928652711716  |\n",
        "|   SGD     |   2   | 15.200483560562134   |  1.5172575635983205 |  41.66062737103774   |\n",
        "|   SGD     |   3   | 15.430280685424805   |  1.2595373507960679 |  52.627654280262696  |\n",
        "|   SGD     |   4   | 15.49782395362854    |  1.0342020011314041 |  61.37652780733207   |\n",
        "|   SGD     |   5   | 15.517560005187988   |  0.8647981308915121 |  68.19055114819494   |\n",
        "_________________________________________________________________________________________\n",
        "| SGD_nes   |   1   | 28.066128730773926   |  2.034897204860092  |  21.97610816966551   |\n",
        "| SGD_nes   |   2   | 27.760812282562256   |  1.4966033151387559 |  42.179984230383624  |\n",
        "| SGD_nes   |   3   | 27.782509565353394   |  1.2289859423856906 |  53.260814863356245  |\n",
        "| SGD_nes   |   4   | 27.850111961364746   |  1.0070519291836282 |  62.75977421860316   |\n",
        "| SGD_nes   |   5   | 27.89001965522766    |  0.8746370840865327 |  68.43943285593723   |\n",
        "_________________________________________________________________________________________\n",
        "| Adagrad   |   1   | 15.246890783309937   |  1.988328962069948  |  20.432928652711716  |\n",
        "| Adagrad   |   2   | 15.200483560562134   |  1.5172575635983205 |  41.66062737103774   |\n",
        "| Adagrad   |   3   | 15.430280685424805   |  1.2595373507960679 |  52.627654280262696  |\n",
        "| Adagrad   |   4   | 15.49782395362854    |  1.0342020011314041 |  61.37652780733207   |\n",
        "| Adagrad   |   5   | 15.517560005187988   |  0.8647981308915121 |  68.19055114819494   |\n",
        "_________________________________________________________________________________________\n",
        "| Adadelta  |   1   | 15.246890783309937   |  1.988328962069948  |  20.432928652711716  |\n",
        "| Adadelta  |   2   | 15.200483560562134   |  1.5172575635983205 |  41.66062737103774   |\n",
        "| Adadelta  |   3   | 15.430280685424805   |  1.2595373507960679 |  52.627654280262696  |\n",
        "| Adadelta  |   4   | 15.49782395362854    |  1.0342020011314041 |  61.37652780733207   |\n",
        "| Adadelta  |   5   | 15.517560005187988   |  0.8647981308915121 |  68.19055114819494   |\n",
        "_________________________________________________________________________________________\n",
        "|   Adam    |   1   | 15.246890783309937   |  1.988328962069948  |  20.432928652711716  |\n",
        "| Adadelta  |   2   | 15.200483560562134   |  1.5172575635983205 |  41.66062737103774   |\n",
        "| Adadelta  |   3   | 15.430280685424805   |  1.2595373507960679 |  52.627654280262696  |\n",
        "| Adadelta  |   4   | 15.49782395362854    |  1.0342020011314041 |  61.37652780733207   |\n",
        "| Adadelta  |   5   | 15.517560005187988   |  0.8647981308915121 |  68.19055114819494   |\n",
        "'''"
      ],
      "metadata": {
        "id": "DCkDuCEka71h"
      },
      "execution_count": null,
      "outputs": []
    },
    {
      "cell_type": "markdown",
      "source": [
        "# C7: Experimenting without Batch Norm layer\n",
        "With the GPU-enabled code and the optimal number of workers, report the average training loss, top-1 training accuracy for 5 epochs with the default SGD optimizer and its hyper-parameters but without batch norm layers."
      ],
      "metadata": {
        "id": "eVcPh5HQU6ER"
      }
    },
    {
      "cell_type": "code",
      "source": [
        "import numpy as np\n",
        "a = [15.246890783309937, 15.200483560562134, 15.430280685424805, 15.49782395362854, 15.517560005187988]\n",
        "print(np.mean(a))"
      ],
      "metadata": {
        "colab": {
          "base_uri": "https://localhost:8080/"
        },
        "id": "I4QcBv_DK4DQ",
        "outputId": "a2535c3b-5056-4912-96de-50ed1ce0db34"
      },
      "execution_count": 3,
      "outputs": [
        {
          "output_type": "stream",
          "name": "stdout",
          "text": [
            "15.378607797622681\n"
          ]
        }
      ]
    },
    {
      "cell_type": "code",
      "source": [
        "a = [1,2,3,4,5,6]\n",
        "for i in range(0, 6, 2):\n",
        "  print(a[i:i+2])\n",
        "\n"
      ],
      "metadata": {
        "colab": {
          "base_uri": "https://localhost:8080/"
        },
        "id": "44cqNcVqK67F",
        "outputId": "2ad194d0-be85-49b1-895e-3c486147edf2"
      },
      "execution_count": 8,
      "outputs": [
        {
          "output_type": "stream",
          "name": "stdout",
          "text": [
            "[1, 2]\n",
            "[3, 4]\n",
            "[5, 6]\n"
          ]
        }
      ]
    },
    {
      "cell_type": "code",
      "source": [
        "\n",
        "\n"
      ],
      "metadata": {
        "id": "YJ-ybXXLXvMc"
      },
      "execution_count": null,
      "outputs": []
    }
  ]
}