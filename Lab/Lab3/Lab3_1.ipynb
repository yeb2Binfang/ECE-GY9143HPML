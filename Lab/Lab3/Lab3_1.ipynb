{
  "nbformat": 4,
  "nbformat_minor": 0,
  "metadata": {
    "colab": {
      "name": "Lab3-1.ipynb",
      "provenance": [],
      "authorship_tag": "ABX9TyPj7XJ4hgy763iMCvq6eTqx",
      "include_colab_link": true
    },
    "kernelspec": {
      "name": "python3",
      "display_name": "Python 3"
    },
    "language_info": {
      "name": "python"
    }
  },
  "cells": [
    {
      "cell_type": "markdown",
      "metadata": {
        "id": "view-in-github",
        "colab_type": "text"
      },
      "source": [
        "<a href=\"https://colab.research.google.com/github/yeb2Binfang/ECE-GY9143HPML/blob/main/Lab/Lab3/Lab3_1.ipynb\" target=\"_parent\"><img src=\"https://colab.research.google.com/assets/colab-badge.svg\" alt=\"Open In Colab\"/></a>"
      ]
    },
    {
      "cell_type": "markdown",
      "source": [
        "Read the two blogs, one by Andre Pernunicic and other by Daniel Godoy on weight initialization. You will reuse the code at github repo linked in the blog for explaining vanishing and exploding gradients. You can use the same 5 layer neural network model as in the repo and the same dataset.\n",
        "\n",
        "1. Explain vanishing gradients phenomenon using standard normalization with different values of standard deviation and tanh and sigmoid activation functions. Then show how Xavier (aka Glorot normal) initialization of weights helps in dealing with this problem. Next use ReLU activation and show that instead of Xavier initialization, He initialization works better for ReLU activation. You can plot activations at each of the 5 layers to answer this question. (8)\n",
        "\n",
        "2. The dying ReLU is a kind of vanishing gradient, which refers to a problem when ReLU neurons become inactive and only output 0 for any input. In the worst case of dying ReLU, ReLU neurons at a certain layer are all dead, i.e., the entire network dies and is referred to as the dying ReLU neural networks in Lu et al (reference below). A dying ReLU neural network collapses to a constant function. Show this phenomenon using any one of the three 1-dimensional functions on page 13 of Lu et al. Use a 10-layer ReLU network with width 2 (hidden units per layer). Use minibatch of 64 and draw training data uniformly from $[\\sqrt{-7}, \\sqrt{7}]$. Perform 1000 independent training simulations each with 3,000 training points. Out of these 1000 simulations, what fraction resulted in neural network collapse. Is your answer close to over 90% as was reported in Lu et al. ? (8)\n",
        "\n",
        "3. Instead of ReLU consider Leaky ReLU activation as defined below:\n",
        "$$\n",
        "\\begin{gathered}\n",
        "\\phi(z) = \n",
        "\\begin{cases}\n",
        "z & \\text{if  } z>0\\\\\n",
        "0.01z & \\text{if  } z\\le 0\n",
        "\\end{cases}\n",
        "\\end{gathered}\n",
        "$$\n",
        "\n",
        "Run the 1000 training simulations in part 2 with Leaky ReLU activation and keep everything else the same. Again calculate the fraction of simulations that resulted in neural network collapse. Did Leaky ReLU help in preventing dying neurons? (4)\n",
        "\n",
        "*Reference*\n",
        "\n",
        "* Andre Perunicic. Understand neural network weight initialization. Available at https://intoli.com/blog/neural-network-initialization/ \n",
        "* Daniel Godoy. Hyper-parameters in Action Part II — Weight Initializers.\n",
        "* Initializers - Keras documentation. https://keras.io/initializers/.\n",
        "* Lu Lu et al. Dying ReLU and Initialization: Theory and Numerical Examples."
      ],
      "metadata": {
        "id": "OP6T1bMTNc4h"
      }
    },
    {
      "cell_type": "markdown",
      "source": [
        "## Problem 1\n",
        "\n",
        "Explain vanishing gradients phenomenon using standard normalization with different values of standard deviation and tanh and sigmoid activation functions. Then show how Xavier (aka Glorot normal) initialization of weights helps in dealing with this problem. Next use ReLU activation and show that instead of Xavier initialization, He initialization works better for ReLU activation. You can plot activations at each of the 5 layers to answer this question. (8)"
      ],
      "metadata": {
        "id": "HIPxsB9gPjUh"
      }
    },
    {
      "cell_type": "code",
      "source": [
        "!pip install tensorboard==2.3.0\n",
        "!pip install tensorboard-plugin-wit==1.7.0\n",
        "!pip install tensorflow-estimator==2.3.0\n",
        "!pip install tensorflow-gpu==2.3.0\n",
        "!pip install tensorflow-gpu-estimator==2.3.0\n",
        "!pip install keras==2.4.3\n",
        "!pip install keras-preprocessing==1.1.2"
      ],
      "metadata": {
        "id": "UAmKnNTkPYvE",
        "outputId": "acb453e2-4b2a-4d03-eaa3-f530d46cffdf",
        "colab": {
          "base_uri": "https://localhost:8080/",
          "height": 1000
        }
      },
      "execution_count": 1,
      "outputs": [
        {
          "output_type": "stream",
          "name": "stdout",
          "text": [
            "Collecting tensorboard==2.3.0\n",
            "  Downloading tensorboard-2.3.0-py3-none-any.whl (6.8 MB)\n",
            "\u001b[K     |████████████████████████████████| 6.8 MB 5.3 MB/s \n",
            "\u001b[?25hRequirement already satisfied: google-auth-oauthlib<0.5,>=0.4.1 in /usr/local/lib/python3.7/dist-packages (from tensorboard==2.3.0) (0.4.6)\n",
            "Requirement already satisfied: absl-py>=0.4 in /usr/local/lib/python3.7/dist-packages (from tensorboard==2.3.0) (1.0.0)\n",
            "Requirement already satisfied: protobuf>=3.6.0 in /usr/local/lib/python3.7/dist-packages (from tensorboard==2.3.0) (3.17.3)\n",
            "Requirement already satisfied: markdown>=2.6.8 in /usr/local/lib/python3.7/dist-packages (from tensorboard==2.3.0) (3.3.6)\n",
            "Requirement already satisfied: grpcio>=1.24.3 in /usr/local/lib/python3.7/dist-packages (from tensorboard==2.3.0) (1.44.0)\n",
            "Requirement already satisfied: google-auth<2,>=1.6.3 in /usr/local/lib/python3.7/dist-packages (from tensorboard==2.3.0) (1.35.0)\n",
            "Requirement already satisfied: requests<3,>=2.21.0 in /usr/local/lib/python3.7/dist-packages (from tensorboard==2.3.0) (2.23.0)\n",
            "Requirement already satisfied: tensorboard-plugin-wit>=1.6.0 in /usr/local/lib/python3.7/dist-packages (from tensorboard==2.3.0) (1.8.1)\n",
            "Requirement already satisfied: six>=1.10.0 in /usr/local/lib/python3.7/dist-packages (from tensorboard==2.3.0) (1.15.0)\n",
            "Requirement already satisfied: werkzeug>=0.11.15 in /usr/local/lib/python3.7/dist-packages (from tensorboard==2.3.0) (1.0.1)\n",
            "Requirement already satisfied: numpy>=1.12.0 in /usr/local/lib/python3.7/dist-packages (from tensorboard==2.3.0) (1.21.5)\n",
            "Requirement already satisfied: setuptools>=41.0.0 in /usr/local/lib/python3.7/dist-packages (from tensorboard==2.3.0) (57.4.0)\n",
            "Requirement already satisfied: wheel>=0.26 in /usr/local/lib/python3.7/dist-packages (from tensorboard==2.3.0) (0.37.1)\n",
            "Requirement already satisfied: pyasn1-modules>=0.2.1 in /usr/local/lib/python3.7/dist-packages (from google-auth<2,>=1.6.3->tensorboard==2.3.0) (0.2.8)\n",
            "Requirement already satisfied: cachetools<5.0,>=2.0.0 in /usr/local/lib/python3.7/dist-packages (from google-auth<2,>=1.6.3->tensorboard==2.3.0) (4.2.4)\n",
            "Requirement already satisfied: rsa<5,>=3.1.4 in /usr/local/lib/python3.7/dist-packages (from google-auth<2,>=1.6.3->tensorboard==2.3.0) (4.8)\n",
            "Requirement already satisfied: requests-oauthlib>=0.7.0 in /usr/local/lib/python3.7/dist-packages (from google-auth-oauthlib<0.5,>=0.4.1->tensorboard==2.3.0) (1.3.1)\n",
            "Requirement already satisfied: importlib-metadata>=4.4 in /usr/local/lib/python3.7/dist-packages (from markdown>=2.6.8->tensorboard==2.3.0) (4.11.3)\n",
            "Requirement already satisfied: zipp>=0.5 in /usr/local/lib/python3.7/dist-packages (from importlib-metadata>=4.4->markdown>=2.6.8->tensorboard==2.3.0) (3.7.0)\n",
            "Requirement already satisfied: typing-extensions>=3.6.4 in /usr/local/lib/python3.7/dist-packages (from importlib-metadata>=4.4->markdown>=2.6.8->tensorboard==2.3.0) (3.10.0.2)\n",
            "Requirement already satisfied: pyasn1<0.5.0,>=0.4.6 in /usr/local/lib/python3.7/dist-packages (from pyasn1-modules>=0.2.1->google-auth<2,>=1.6.3->tensorboard==2.3.0) (0.4.8)\n",
            "Requirement already satisfied: idna<3,>=2.5 in /usr/local/lib/python3.7/dist-packages (from requests<3,>=2.21.0->tensorboard==2.3.0) (2.10)\n",
            "Requirement already satisfied: chardet<4,>=3.0.2 in /usr/local/lib/python3.7/dist-packages (from requests<3,>=2.21.0->tensorboard==2.3.0) (3.0.4)\n",
            "Requirement already satisfied: certifi>=2017.4.17 in /usr/local/lib/python3.7/dist-packages (from requests<3,>=2.21.0->tensorboard==2.3.0) (2021.10.8)\n",
            "Requirement already satisfied: urllib3!=1.25.0,!=1.25.1,<1.26,>=1.21.1 in /usr/local/lib/python3.7/dist-packages (from requests<3,>=2.21.0->tensorboard==2.3.0) (1.24.3)\n",
            "Requirement already satisfied: oauthlib>=3.0.0 in /usr/local/lib/python3.7/dist-packages (from requests-oauthlib>=0.7.0->google-auth-oauthlib<0.5,>=0.4.1->tensorboard==2.3.0) (3.2.0)\n",
            "Installing collected packages: tensorboard\n",
            "  Attempting uninstall: tensorboard\n",
            "    Found existing installation: tensorboard 2.8.0\n",
            "    Uninstalling tensorboard-2.8.0:\n",
            "      Successfully uninstalled tensorboard-2.8.0\n",
            "\u001b[31mERROR: pip's dependency resolver does not currently take into account all the packages that are installed. This behaviour is the source of the following dependency conflicts.\n",
            "tensorflow 2.8.0 requires tf-estimator-nightly==2.8.0.dev2021122109, which is not installed.\n",
            "tensorflow 2.8.0 requires tensorboard<2.9,>=2.8, but you have tensorboard 2.3.0 which is incompatible.\u001b[0m\n",
            "Successfully installed tensorboard-2.3.0\n",
            "Collecting tensorboard-plugin-wit==1.7.0\n",
            "  Downloading tensorboard_plugin_wit-1.7.0-py3-none-any.whl (779 kB)\n",
            "\u001b[K     |████████████████████████████████| 779 kB 4.0 MB/s \n",
            "\u001b[?25hInstalling collected packages: tensorboard-plugin-wit\n",
            "  Attempting uninstall: tensorboard-plugin-wit\n",
            "    Found existing installation: tensorboard-plugin-wit 1.8.1\n",
            "    Uninstalling tensorboard-plugin-wit-1.8.1:\n",
            "      Successfully uninstalled tensorboard-plugin-wit-1.8.1\n",
            "Successfully installed tensorboard-plugin-wit-1.7.0\n",
            "Collecting tensorflow-estimator==2.3.0\n",
            "  Downloading tensorflow_estimator-2.3.0-py2.py3-none-any.whl (459 kB)\n",
            "\u001b[K     |████████████████████████████████| 459 kB 5.7 MB/s \n",
            "\u001b[?25hInstalling collected packages: tensorflow-estimator\n",
            "  Attempting uninstall: tensorflow-estimator\n",
            "    Found existing installation: tensorflow-estimator 2.8.0\n",
            "    Uninstalling tensorflow-estimator-2.8.0:\n",
            "      Successfully uninstalled tensorflow-estimator-2.8.0\n",
            "Successfully installed tensorflow-estimator-2.3.0\n",
            "Collecting tensorflow-gpu==2.3.0\n",
            "  Downloading tensorflow_gpu-2.3.0-cp37-cp37m-manylinux2010_x86_64.whl (320.4 MB)\n",
            "\u001b[K     |████████████████████████████████| 320.4 MB 41 kB/s \n",
            "\u001b[?25hRequirement already satisfied: wrapt>=1.11.1 in /usr/local/lib/python3.7/dist-packages (from tensorflow-gpu==2.3.0) (1.14.0)\n",
            "Requirement already satisfied: opt-einsum>=2.3.2 in /usr/local/lib/python3.7/dist-packages (from tensorflow-gpu==2.3.0) (3.3.0)\n",
            "Collecting gast==0.3.3\n",
            "  Downloading gast-0.3.3-py2.py3-none-any.whl (9.7 kB)\n",
            "Requirement already satisfied: tensorflow-estimator<2.4.0,>=2.3.0 in /usr/local/lib/python3.7/dist-packages (from tensorflow-gpu==2.3.0) (2.3.0)\n",
            "Requirement already satisfied: astunparse==1.6.3 in /usr/local/lib/python3.7/dist-packages (from tensorflow-gpu==2.3.0) (1.6.3)\n",
            "Requirement already satisfied: termcolor>=1.1.0 in /usr/local/lib/python3.7/dist-packages (from tensorflow-gpu==2.3.0) (1.1.0)\n",
            "Requirement already satisfied: absl-py>=0.7.0 in /usr/local/lib/python3.7/dist-packages (from tensorflow-gpu==2.3.0) (1.0.0)\n",
            "Collecting h5py<2.11.0,>=2.10.0\n",
            "  Downloading h5py-2.10.0-cp37-cp37m-manylinux1_x86_64.whl (2.9 MB)\n",
            "\u001b[K     |████████████████████████████████| 2.9 MB 31.8 MB/s \n",
            "\u001b[?25hRequirement already satisfied: protobuf>=3.9.2 in /usr/local/lib/python3.7/dist-packages (from tensorflow-gpu==2.3.0) (3.17.3)\n",
            "Collecting numpy<1.19.0,>=1.16.0\n",
            "  Downloading numpy-1.18.5-cp37-cp37m-manylinux1_x86_64.whl (20.1 MB)\n",
            "\u001b[K     |████████████████████████████████| 20.1 MB 1.2 MB/s \n",
            "\u001b[?25hRequirement already satisfied: wheel>=0.26 in /usr/local/lib/python3.7/dist-packages (from tensorflow-gpu==2.3.0) (0.37.1)\n",
            "Requirement already satisfied: six>=1.12.0 in /usr/local/lib/python3.7/dist-packages (from tensorflow-gpu==2.3.0) (1.15.0)\n",
            "Requirement already satisfied: scipy==1.4.1 in /usr/local/lib/python3.7/dist-packages (from tensorflow-gpu==2.3.0) (1.4.1)\n",
            "Requirement already satisfied: google-pasta>=0.1.8 in /usr/local/lib/python3.7/dist-packages (from tensorflow-gpu==2.3.0) (0.2.0)\n",
            "Requirement already satisfied: keras-preprocessing<1.2,>=1.1.1 in /usr/local/lib/python3.7/dist-packages (from tensorflow-gpu==2.3.0) (1.1.2)\n",
            "Requirement already satisfied: grpcio>=1.8.6 in /usr/local/lib/python3.7/dist-packages (from tensorflow-gpu==2.3.0) (1.44.0)\n",
            "Requirement already satisfied: tensorboard<3,>=2.3.0 in /usr/local/lib/python3.7/dist-packages (from tensorflow-gpu==2.3.0) (2.3.0)\n",
            "Requirement already satisfied: markdown>=2.6.8 in /usr/local/lib/python3.7/dist-packages (from tensorboard<3,>=2.3.0->tensorflow-gpu==2.3.0) (3.3.6)\n",
            "Requirement already satisfied: setuptools>=41.0.0 in /usr/local/lib/python3.7/dist-packages (from tensorboard<3,>=2.3.0->tensorflow-gpu==2.3.0) (57.4.0)\n",
            "Requirement already satisfied: requests<3,>=2.21.0 in /usr/local/lib/python3.7/dist-packages (from tensorboard<3,>=2.3.0->tensorflow-gpu==2.3.0) (2.23.0)\n",
            "Requirement already satisfied: werkzeug>=0.11.15 in /usr/local/lib/python3.7/dist-packages (from tensorboard<3,>=2.3.0->tensorflow-gpu==2.3.0) (1.0.1)\n",
            "Requirement already satisfied: google-auth<2,>=1.6.3 in /usr/local/lib/python3.7/dist-packages (from tensorboard<3,>=2.3.0->tensorflow-gpu==2.3.0) (1.35.0)\n",
            "Requirement already satisfied: tensorboard-plugin-wit>=1.6.0 in /usr/local/lib/python3.7/dist-packages (from tensorboard<3,>=2.3.0->tensorflow-gpu==2.3.0) (1.7.0)\n",
            "Requirement already satisfied: google-auth-oauthlib<0.5,>=0.4.1 in /usr/local/lib/python3.7/dist-packages (from tensorboard<3,>=2.3.0->tensorflow-gpu==2.3.0) (0.4.6)\n",
            "Requirement already satisfied: pyasn1-modules>=0.2.1 in /usr/local/lib/python3.7/dist-packages (from google-auth<2,>=1.6.3->tensorboard<3,>=2.3.0->tensorflow-gpu==2.3.0) (0.2.8)\n",
            "Requirement already satisfied: cachetools<5.0,>=2.0.0 in /usr/local/lib/python3.7/dist-packages (from google-auth<2,>=1.6.3->tensorboard<3,>=2.3.0->tensorflow-gpu==2.3.0) (4.2.4)\n",
            "Requirement already satisfied: rsa<5,>=3.1.4 in /usr/local/lib/python3.7/dist-packages (from google-auth<2,>=1.6.3->tensorboard<3,>=2.3.0->tensorflow-gpu==2.3.0) (4.8)\n",
            "Requirement already satisfied: requests-oauthlib>=0.7.0 in /usr/local/lib/python3.7/dist-packages (from google-auth-oauthlib<0.5,>=0.4.1->tensorboard<3,>=2.3.0->tensorflow-gpu==2.3.0) (1.3.1)\n",
            "Requirement already satisfied: importlib-metadata>=4.4 in /usr/local/lib/python3.7/dist-packages (from markdown>=2.6.8->tensorboard<3,>=2.3.0->tensorflow-gpu==2.3.0) (4.11.3)\n",
            "Requirement already satisfied: typing-extensions>=3.6.4 in /usr/local/lib/python3.7/dist-packages (from importlib-metadata>=4.4->markdown>=2.6.8->tensorboard<3,>=2.3.0->tensorflow-gpu==2.3.0) (3.10.0.2)\n",
            "Requirement already satisfied: zipp>=0.5 in /usr/local/lib/python3.7/dist-packages (from importlib-metadata>=4.4->markdown>=2.6.8->tensorboard<3,>=2.3.0->tensorflow-gpu==2.3.0) (3.7.0)\n",
            "Requirement already satisfied: pyasn1<0.5.0,>=0.4.6 in /usr/local/lib/python3.7/dist-packages (from pyasn1-modules>=0.2.1->google-auth<2,>=1.6.3->tensorboard<3,>=2.3.0->tensorflow-gpu==2.3.0) (0.4.8)\n",
            "Requirement already satisfied: idna<3,>=2.5 in /usr/local/lib/python3.7/dist-packages (from requests<3,>=2.21.0->tensorboard<3,>=2.3.0->tensorflow-gpu==2.3.0) (2.10)\n",
            "Requirement already satisfied: urllib3!=1.25.0,!=1.25.1,<1.26,>=1.21.1 in /usr/local/lib/python3.7/dist-packages (from requests<3,>=2.21.0->tensorboard<3,>=2.3.0->tensorflow-gpu==2.3.0) (1.24.3)\n",
            "Requirement already satisfied: chardet<4,>=3.0.2 in /usr/local/lib/python3.7/dist-packages (from requests<3,>=2.21.0->tensorboard<3,>=2.3.0->tensorflow-gpu==2.3.0) (3.0.4)\n",
            "Requirement already satisfied: certifi>=2017.4.17 in /usr/local/lib/python3.7/dist-packages (from requests<3,>=2.21.0->tensorboard<3,>=2.3.0->tensorflow-gpu==2.3.0) (2021.10.8)\n",
            "Requirement already satisfied: oauthlib>=3.0.0 in /usr/local/lib/python3.7/dist-packages (from requests-oauthlib>=0.7.0->google-auth-oauthlib<0.5,>=0.4.1->tensorboard<3,>=2.3.0->tensorflow-gpu==2.3.0) (3.2.0)\n",
            "Installing collected packages: numpy, h5py, gast, tensorflow-gpu\n",
            "  Attempting uninstall: numpy\n",
            "    Found existing installation: numpy 1.21.5\n",
            "    Uninstalling numpy-1.21.5:\n",
            "      Successfully uninstalled numpy-1.21.5\n",
            "  Attempting uninstall: h5py\n",
            "    Found existing installation: h5py 3.1.0\n",
            "    Uninstalling h5py-3.1.0:\n",
            "      Successfully uninstalled h5py-3.1.0\n",
            "  Attempting uninstall: gast\n",
            "    Found existing installation: gast 0.5.3\n",
            "    Uninstalling gast-0.5.3:\n",
            "      Successfully uninstalled gast-0.5.3\n",
            "\u001b[31mERROR: pip's dependency resolver does not currently take into account all the packages that are installed. This behaviour is the source of the following dependency conflicts.\n",
            "tensorflow 2.8.0 requires tf-estimator-nightly==2.8.0.dev2021122109, which is not installed.\n",
            "tensorflow 2.8.0 requires numpy>=1.20, but you have numpy 1.18.5 which is incompatible.\n",
            "tensorflow 2.8.0 requires tensorboard<2.9,>=2.8, but you have tensorboard 2.3.0 which is incompatible.\n",
            "tables 3.7.0 requires numpy>=1.19.0, but you have numpy 1.18.5 which is incompatible.\n",
            "jaxlib 0.3.0+cuda11.cudnn805 requires numpy>=1.19, but you have numpy 1.18.5 which is incompatible.\n",
            "jax 0.3.1 requires numpy>=1.19, but you have numpy 1.18.5 which is incompatible.\n",
            "datascience 0.10.6 requires folium==0.2.1, but you have folium 0.8.3 which is incompatible.\n",
            "albumentations 0.1.12 requires imgaug<0.2.7,>=0.2.5, but you have imgaug 0.2.9 which is incompatible.\u001b[0m\n",
            "Successfully installed gast-0.3.3 h5py-2.10.0 numpy-1.18.5 tensorflow-gpu-2.3.0\n"
          ]
        },
        {
          "output_type": "display_data",
          "data": {
            "application/vnd.colab-display-data+json": {
              "pip_warning": {
                "packages": [
                  "numpy"
                ]
              }
            }
          },
          "metadata": {}
        },
        {
          "output_type": "stream",
          "name": "stdout",
          "text": [
            "Collecting tensorflow-gpu-estimator==2.3.0\n",
            "  Downloading tensorflow_gpu_estimator-2.3.0-py2.py3-none-any.whl (474 kB)\n",
            "\u001b[?25l\r\u001b[K     |▊                               | 10 kB 20.6 MB/s eta 0:00:01\r\u001b[K     |█▍                              | 20 kB 17.9 MB/s eta 0:00:01\r\u001b[K     |██                              | 30 kB 11.3 MB/s eta 0:00:01\r\u001b[K     |██▊                             | 40 kB 4.7 MB/s eta 0:00:01\r\u001b[K     |███▌                            | 51 kB 4.8 MB/s eta 0:00:01\r\u001b[K     |████▏                           | 61 kB 5.5 MB/s eta 0:00:01\r\u001b[K     |████▉                           | 71 kB 6.2 MB/s eta 0:00:01\r\u001b[K     |█████▌                          | 81 kB 5.6 MB/s eta 0:00:01\r\u001b[K     |██████▏                         | 92 kB 6.2 MB/s eta 0:00:01\r\u001b[K     |███████                         | 102 kB 5.2 MB/s eta 0:00:01\r\u001b[K     |███████▋                        | 112 kB 5.2 MB/s eta 0:00:01\r\u001b[K     |████████▎                       | 122 kB 5.2 MB/s eta 0:00:01\r\u001b[K     |█████████                       | 133 kB 5.2 MB/s eta 0:00:01\r\u001b[K     |█████████▋                      | 143 kB 5.2 MB/s eta 0:00:01\r\u001b[K     |██████████▍                     | 153 kB 5.2 MB/s eta 0:00:01\r\u001b[K     |███████████                     | 163 kB 5.2 MB/s eta 0:00:01\r\u001b[K     |███████████▊                    | 174 kB 5.2 MB/s eta 0:00:01\r\u001b[K     |████████████▍                   | 184 kB 5.2 MB/s eta 0:00:01\r\u001b[K     |█████████████                   | 194 kB 5.2 MB/s eta 0:00:01\r\u001b[K     |█████████████▉                  | 204 kB 5.2 MB/s eta 0:00:01\r\u001b[K     |██████████████▌                 | 215 kB 5.2 MB/s eta 0:00:01\r\u001b[K     |███████████████▏                | 225 kB 5.2 MB/s eta 0:00:01\r\u001b[K     |███████████████▉                | 235 kB 5.2 MB/s eta 0:00:01\r\u001b[K     |████████████████▋               | 245 kB 5.2 MB/s eta 0:00:01\r\u001b[K     |█████████████████▎              | 256 kB 5.2 MB/s eta 0:00:01\r\u001b[K     |██████████████████              | 266 kB 5.2 MB/s eta 0:00:01\r\u001b[K     |██████████████████▋             | 276 kB 5.2 MB/s eta 0:00:01\r\u001b[K     |███████████████████▎            | 286 kB 5.2 MB/s eta 0:00:01\r\u001b[K     |████████████████████            | 296 kB 5.2 MB/s eta 0:00:01\r\u001b[K     |████████████████████▊           | 307 kB 5.2 MB/s eta 0:00:01\r\u001b[K     |█████████████████████▍          | 317 kB 5.2 MB/s eta 0:00:01\r\u001b[K     |██████████████████████          | 327 kB 5.2 MB/s eta 0:00:01\r\u001b[K     |██████████████████████▊         | 337 kB 5.2 MB/s eta 0:00:01\r\u001b[K     |███████████████████████▌        | 348 kB 5.2 MB/s eta 0:00:01\r\u001b[K     |████████████████████████▏       | 358 kB 5.2 MB/s eta 0:00:01\r\u001b[K     |████████████████████████▉       | 368 kB 5.2 MB/s eta 0:00:01\r\u001b[K     |█████████████████████████▌      | 378 kB 5.2 MB/s eta 0:00:01\r\u001b[K     |██████████████████████████▏     | 389 kB 5.2 MB/s eta 0:00:01\r\u001b[K     |███████████████████████████     | 399 kB 5.2 MB/s eta 0:00:01\r\u001b[K     |███████████████████████████▋    | 409 kB 5.2 MB/s eta 0:00:01\r\u001b[K     |████████████████████████████▎   | 419 kB 5.2 MB/s eta 0:00:01\r\u001b[K     |█████████████████████████████   | 430 kB 5.2 MB/s eta 0:00:01\r\u001b[K     |█████████████████████████████▊  | 440 kB 5.2 MB/s eta 0:00:01\r\u001b[K     |██████████████████████████████▍ | 450 kB 5.2 MB/s eta 0:00:01\r\u001b[K     |███████████████████████████████ | 460 kB 5.2 MB/s eta 0:00:01\r\u001b[K     |███████████████████████████████▊| 471 kB 5.2 MB/s eta 0:00:01\r\u001b[K     |████████████████████████████████| 474 kB 5.2 MB/s \n",
            "\u001b[?25hInstalling collected packages: tensorflow-gpu-estimator\n",
            "Successfully installed tensorflow-gpu-estimator-2.3.0\n",
            "Collecting keras==2.4.3\n",
            "  Downloading Keras-2.4.3-py2.py3-none-any.whl (36 kB)\n",
            "Requirement already satisfied: h5py in /usr/local/lib/python3.7/dist-packages (from keras==2.4.3) (2.10.0)\n",
            "Requirement already satisfied: numpy>=1.9.1 in /usr/local/lib/python3.7/dist-packages (from keras==2.4.3) (1.18.5)\n",
            "Requirement already satisfied: scipy>=0.14 in /usr/local/lib/python3.7/dist-packages (from keras==2.4.3) (1.4.1)\n",
            "Requirement already satisfied: pyyaml in /usr/local/lib/python3.7/dist-packages (from keras==2.4.3) (3.13)\n",
            "Requirement already satisfied: six in /usr/local/lib/python3.7/dist-packages (from h5py->keras==2.4.3) (1.15.0)\n",
            "Installing collected packages: keras\n",
            "  Attempting uninstall: keras\n",
            "    Found existing installation: keras 2.8.0\n",
            "    Uninstalling keras-2.8.0:\n",
            "      Successfully uninstalled keras-2.8.0\n",
            "\u001b[31mERROR: pip's dependency resolver does not currently take into account all the packages that are installed. This behaviour is the source of the following dependency conflicts.\n",
            "tensorflow 2.8.0 requires tf-estimator-nightly==2.8.0.dev2021122109, which is not installed.\n",
            "tensorflow 2.8.0 requires keras<2.9,>=2.8.0rc0, but you have keras 2.4.3 which is incompatible.\n",
            "tensorflow 2.8.0 requires numpy>=1.20, but you have numpy 1.18.5 which is incompatible.\n",
            "tensorflow 2.8.0 requires tensorboard<2.9,>=2.8, but you have tensorboard 2.3.0 which is incompatible.\u001b[0m\n",
            "Successfully installed keras-2.4.3\n",
            "Requirement already satisfied: keras-preprocessing==1.1.2 in /usr/local/lib/python3.7/dist-packages (1.1.2)\n",
            "Requirement already satisfied: numpy>=1.9.1 in /usr/local/lib/python3.7/dist-packages (from keras-preprocessing==1.1.2) (1.18.5)\n",
            "Requirement already satisfied: six>=1.9.0 in /usr/local/lib/python3.7/dist-packages (from keras-preprocessing==1.1.2) (1.15.0)\n"
          ]
        }
      ]
    },
    {
      "cell_type": "code",
      "execution_count": 3,
      "metadata": {
        "id": "O97sH7vBNac-"
      },
      "outputs": [],
      "source": [
        "import numpy as np\n",
        "import pandas as pd\n",
        "import seaborn as sns\n",
        "import matplotlib.pyplot as plt\n",
        "import keras\n",
        "from keras.models import Sequential\n",
        "from keras.layers import Conv2D, MaxPooling2D, Dense, Dropout, Flatten\n",
        "from keras import backend as K\n",
        "from keras import initializers\n",
        "# from keras.optimizers import rmsprop_v2\n",
        "from tensorflow.keras.optimizers import RMSprop\n",
        "from keras.datasets import mnist\n",
        "from keras.utils import np_utils\n",
        "from matplotlib import pyplot as plt\n",
        "from matplotlib import rcParamsDefault"
      ]
    },
    {
      "cell_type": "code",
      "source": [
        "def grid_axes_it(n_plots, n_cols = 3, enumerate = False, fig = None):\n",
        "  '''\n",
        "  Iterate through Axes objects on a grid with n_cols columns and as many rows as needed to accommodate n_plots many plots.\n",
        "  We will get n_plots many Axes objects on a grid\n",
        "  :param n_plots: number of plots to plot onto figure\n",
        "  :param n_cols: number of columns to divide the figure into\n",
        "  :param fig: optional figure reference\n",
        "  \n",
        "  '''\n",
        "  n_rows = n_plots / n_cols + int(n_plots % n_cols > 0)\n",
        "\n",
        "  if not fig:\n",
        "    default_figsize = rcParamsDefault['figure.figsize']\n",
        "    fig = plt.figure(figsize = (\n",
        "        default_figsize[0] * n_cols,\n",
        "        default_figsize[1] * n_rows\n",
        "    ))\n",
        "  \n",
        "  for i in range(1, n_plots + 1):\n",
        "    ax = plt.subplot(n_rows, n_cols, i)\n",
        "    yield ax"
      ],
      "metadata": {
        "id": "mWIGzJRPQlW_"
      },
      "execution_count": 4,
      "outputs": []
    },
    {
      "cell_type": "markdown",
      "source": [
        "Create MLP model"
      ],
      "metadata": {
        "id": "ZDnuCJe8YzxQ"
      }
    },
    {
      "cell_type": "code",
      "source": [
        "def create_mlp_model(n_hidden_layers, dim_layer, input_shape, n_classes, kernel_initializer, bias_initializer, activation):\n",
        "  '''\n",
        "  create mlp with given parameters\n",
        "  '''\n",
        "  model = Sequential()\n",
        "  model.add(Dense(dim_layer, input_shape = input_shape, kernel_initializer = kernel_initializer, bias_initializer = bias_initializer))\n",
        "  for i in range(n_hidden_layers):\n",
        "    model.add(Dense(dim_layer, activation = activation, kernel_initializer = kernel_initializer, bias_initializer = bias_initializer))\n",
        "  model.add(Dense(n_classes, activation = 'softmax', kernel_initializer = kernel_initializer, bias_initializer = bias_initializer))\n",
        "  return model"
      ],
      "metadata": {
        "id": "dNfbZkAeTRfk"
      },
      "execution_count": 5,
      "outputs": []
    },
    {
      "cell_type": "code",
      "source": [
        "def create_cnn_model(input_shape, num_classes, kernel_initializer = 'glorot_uniform', bias_initializer = 'zeros'):\n",
        "  model = Sequential()\n",
        "  model.add(Conv2D(32, kernel_size = (3, 3),\n",
        "                   activation = 'relu',\n",
        "                   input_shape = input_shape,\n",
        "                   kernel_initializer = kernel_initializer,\n",
        "                   bias_initializer = bias_initializer))\n",
        "  model.add(Conv2D(64, (3, 3), activation = 'relu',\n",
        "                   kernel_initializer = kernel_initializer,\n",
        "                   bias_initializer = bias_initializer))\n",
        "  model.add(MaxPooling2D(pool_size = (2, 2)))\n",
        "  model.add(Dropout(0.25))\n",
        "  model.add(Flatten())\n",
        "  model.add(Dense(128, activation = 'relu',\n",
        "                  kernel_initializer = kernel_initializer,\n",
        "                  bias_initializer = bias_initializer))\n",
        "  model.add(Dropout(0.5))\n",
        "  model.add(Dense(num_classes, activation = 'softmax',\n",
        "                  kernel_initializer = kernel_initializer,\n",
        "                  bias_initializer = bias_initializer))\n",
        "  return model"
      ],
      "metadata": {
        "id": "dha004gYYy8J"
      },
      "execution_count": 6,
      "outputs": []
    },
    {
      "cell_type": "code",
      "source": [
        "def compile_model(model):\n",
        "  model.compile(loss = keras.losses.categorical_crossentropy, optimizer = 'rmsprop', metrics = ['accuracy'])\n",
        "  return model"
      ],
      "metadata": {
        "id": "ovQpHxHyuVxw"
      },
      "execution_count": 7,
      "outputs": []
    },
    {
      "cell_type": "code",
      "source": [
        "def get_init_id(init):\n",
        "  '''\n",
        "  :param init: Instance of some initializer frrom keras.initializers\n",
        "  returns string ID summarizing initialization scheme and its parameters\n",
        "  '''\n",
        "  try:\n",
        "    init_name = str(init).split('.')[2].split(' ')[0]\n",
        "  except:\n",
        "    init_name = str(init).split(' ')[0].replace('.', '_')\n",
        "\n",
        "  param_list = []\n",
        "  config = init.get_config()\n",
        "  for k, v in config.items():\n",
        "    if k == 'seed':\n",
        "      continue\n",
        "    param_list.append('{k}--{v}'.format(k = k, v = v))\n",
        "  init_params = '__'.join(param_list)\n",
        "\n",
        "  return '|'.join([init_name, init_params])"
      ],
      "metadata": {
        "id": "Ohb6m9WruoCI"
      },
      "execution_count": 8,
      "outputs": []
    },
    {
      "cell_type": "code",
      "source": [
        "def get_activations(model, x, mode = 0.0):\n",
        "  '''\n",
        "  extract activations with given model and input vector x\n",
        "  '''\n",
        "  outputs = [layer.output for layer in model.layers]\n",
        "  activations = K.function(model.input, outputs)\n",
        "  output_elts = activations([x, mode])\n",
        "  return output_elts"
      ],
      "metadata": {
        "id": "idIBjFeVwOMP"
      },
      "execution_count": 9,
      "outputs": []
    },
    {
      "cell_type": "code",
      "source": [
        "class LossHistory(keras.callbacks.Callback):\n",
        "    '''\n",
        "    A custom keras callback for recording losses during network training.\n",
        "    '''\n",
        "\n",
        "    def on_train_begin(self, logs={}):\n",
        "        self.losses = []\n",
        "        self.epoch_losses = []\n",
        "        self.epoch_val_losses = []\n",
        "\n",
        "    def on_batch_end(self, batch, logs={}):\n",
        "        self.losses.append(logs.get('loss'))\n",
        "\n",
        "    def on_epoch_end(self, epoch, logs={}):\n",
        "        self.epoch_losses.append(logs.get('loss'))\n",
        "        self.epoch_val_losses.append(logs.get('val_loss'))"
      ],
      "metadata": {
        "id": "JTBtHepowyrC"
      },
      "execution_count": 10,
      "outputs": []
    },
    {
      "cell_type": "code",
      "source": [
        "seed = 10\n",
        "\n",
        "# Number of points to plot\n",
        "n_train = 1000\n",
        "n_test = 100\n",
        "n_classes = 10\n",
        "\n",
        "# Network params\n",
        "n_hidden_layers = 5\n",
        "dim_layer = 100\n",
        "batch_size = n_train\n",
        "epochs = 1"
      ],
      "metadata": {
        "id": "InfB1FhGyV_f"
      },
      "execution_count": 11,
      "outputs": []
    },
    {
      "cell_type": "code",
      "source": [
        "# Load and prepare MNIST dataset.\n",
        "n_train = 60000\n",
        "n_test = 10000\n",
        "(x_train, y_train), (x_test, y_test) = mnist.load_data()\n",
        "num_classes = len(np.unique(y_test))\n",
        "data_dim = 28 * 28"
      ],
      "metadata": {
        "id": "UhdTkFes12A_",
        "outputId": "e47f258c-7534-4359-aba6-dcd93575b367",
        "colab": {
          "base_uri": "https://localhost:8080/"
        }
      },
      "execution_count": 12,
      "outputs": [
        {
          "output_type": "stream",
          "name": "stdout",
          "text": [
            "Downloading data from https://storage.googleapis.com/tensorflow/tf-keras-datasets/mnist.npz\n",
            "11493376/11490434 [==============================] - 0s 0us/step\n"
          ]
        }
      ]
    },
    {
      "cell_type": "code",
      "source": [
        "x_train = x_train.reshape(60000, 784).astype('float32')[:n_train]\n",
        "x_test = x_test.reshape(10000, 784).astype('float32')[:n_train]\n",
        "x_train /= 255\n",
        "x_test /= 255"
      ],
      "metadata": {
        "id": "ZgkEV7bI2Crx"
      },
      "execution_count": 13,
      "outputs": []
    },
    {
      "cell_type": "code",
      "source": [
        "y_train = keras.utils.np_utils.to_categorical(y_train, num_classes)\n",
        "y_test = keras.utils.np_utils.to_categorical(y_test, num_classes)"
      ],
      "metadata": {
        "id": "7sEXQk_Y2FVX"
      },
      "execution_count": 14,
      "outputs": []
    },
    {
      "cell_type": "code",
      "source": [
        "rows = []\n",
        "sigmas = [0.10, 0.14, 0.28]\n",
        "for stddev in sigmas:\n",
        "    init = initializers.RandomNormal(mean=0.0, stddev=stddev, seed=seed)\n",
        "    activation = 'tanh'\n",
        "\n",
        "    model = create_mlp_model(\n",
        "        n_hidden_layers,\n",
        "        dim_layer,\n",
        "        (data_dim,),\n",
        "        n_classes,\n",
        "        init,\n",
        "        'zeros',\n",
        "        activation\n",
        "    )\n",
        "    compile_model(model)\n",
        "    output_elts = get_activations(model, x_test)\n",
        "    n_layers = len(model.layers)\n",
        "    i_output_layer = n_layers - 1\n",
        "\n",
        "    for i, out in enumerate(output_elts[:-1]):\n",
        "        if i > 0 and i != i_output_layer:\n",
        "            for out_i in out.ravel()[::20]:\n",
        "                rows.append([i, stddev, out_i])"
      ],
      "metadata": {
        "id": "CfpQLTkI2I9g"
      },
      "execution_count": 15,
      "outputs": []
    },
    {
      "cell_type": "code",
      "source": [
        "df = pd.DataFrame(rows, columns=['Hidden Layer', 'Standard Deviation', 'Output'])"
      ],
      "metadata": {
        "id": "3m7xgc_QI7KK"
      },
      "execution_count": 16,
      "outputs": []
    },
    {
      "cell_type": "code",
      "source": [
        "df"
      ],
      "metadata": {
        "id": "2AAoYxfGRQJf",
        "outputId": "8d85e568-a6b8-4435-8937-e096dd3b2aff",
        "colab": {
          "base_uri": "https://localhost:8080/",
          "height": 423
        }
      },
      "execution_count": 17,
      "outputs": [
        {
          "output_type": "execute_result",
          "data": {
            "text/plain": [
              "        Hidden Layer  Standard Deviation    Output\n",
              "0                  1                0.10  0.967427\n",
              "1                  1                0.10  0.708782\n",
              "2                  1                0.10 -0.077793\n",
              "3                  1                0.10 -0.044652\n",
              "4                  1                0.10 -0.964942\n",
              "...              ...                 ...       ...\n",
              "749995             5                0.28  0.956301\n",
              "749996             5                0.28 -0.997355\n",
              "749997             5                0.28  0.991971\n",
              "749998             5                0.28  0.232120\n",
              "749999             5                0.28  0.848169\n",
              "\n",
              "[750000 rows x 3 columns]"
            ],
            "text/html": [
              "\n",
              "  <div id=\"df-ad30e42f-520e-4a6e-9e1f-7f83378726db\">\n",
              "    <div class=\"colab-df-container\">\n",
              "      <div>\n",
              "<style scoped>\n",
              "    .dataframe tbody tr th:only-of-type {\n",
              "        vertical-align: middle;\n",
              "    }\n",
              "\n",
              "    .dataframe tbody tr th {\n",
              "        vertical-align: top;\n",
              "    }\n",
              "\n",
              "    .dataframe thead th {\n",
              "        text-align: right;\n",
              "    }\n",
              "</style>\n",
              "<table border=\"1\" class=\"dataframe\">\n",
              "  <thead>\n",
              "    <tr style=\"text-align: right;\">\n",
              "      <th></th>\n",
              "      <th>Hidden Layer</th>\n",
              "      <th>Standard Deviation</th>\n",
              "      <th>Output</th>\n",
              "    </tr>\n",
              "  </thead>\n",
              "  <tbody>\n",
              "    <tr>\n",
              "      <th>0</th>\n",
              "      <td>1</td>\n",
              "      <td>0.10</td>\n",
              "      <td>0.967427</td>\n",
              "    </tr>\n",
              "    <tr>\n",
              "      <th>1</th>\n",
              "      <td>1</td>\n",
              "      <td>0.10</td>\n",
              "      <td>0.708782</td>\n",
              "    </tr>\n",
              "    <tr>\n",
              "      <th>2</th>\n",
              "      <td>1</td>\n",
              "      <td>0.10</td>\n",
              "      <td>-0.077793</td>\n",
              "    </tr>\n",
              "    <tr>\n",
              "      <th>3</th>\n",
              "      <td>1</td>\n",
              "      <td>0.10</td>\n",
              "      <td>-0.044652</td>\n",
              "    </tr>\n",
              "    <tr>\n",
              "      <th>4</th>\n",
              "      <td>1</td>\n",
              "      <td>0.10</td>\n",
              "      <td>-0.964942</td>\n",
              "    </tr>\n",
              "    <tr>\n",
              "      <th>...</th>\n",
              "      <td>...</td>\n",
              "      <td>...</td>\n",
              "      <td>...</td>\n",
              "    </tr>\n",
              "    <tr>\n",
              "      <th>749995</th>\n",
              "      <td>5</td>\n",
              "      <td>0.28</td>\n",
              "      <td>0.956301</td>\n",
              "    </tr>\n",
              "    <tr>\n",
              "      <th>749996</th>\n",
              "      <td>5</td>\n",
              "      <td>0.28</td>\n",
              "      <td>-0.997355</td>\n",
              "    </tr>\n",
              "    <tr>\n",
              "      <th>749997</th>\n",
              "      <td>5</td>\n",
              "      <td>0.28</td>\n",
              "      <td>0.991971</td>\n",
              "    </tr>\n",
              "    <tr>\n",
              "      <th>749998</th>\n",
              "      <td>5</td>\n",
              "      <td>0.28</td>\n",
              "      <td>0.232120</td>\n",
              "    </tr>\n",
              "    <tr>\n",
              "      <th>749999</th>\n",
              "      <td>5</td>\n",
              "      <td>0.28</td>\n",
              "      <td>0.848169</td>\n",
              "    </tr>\n",
              "  </tbody>\n",
              "</table>\n",
              "<p>750000 rows × 3 columns</p>\n",
              "</div>\n",
              "      <button class=\"colab-df-convert\" onclick=\"convertToInteractive('df-ad30e42f-520e-4a6e-9e1f-7f83378726db')\"\n",
              "              title=\"Convert this dataframe to an interactive table.\"\n",
              "              style=\"display:none;\">\n",
              "        \n",
              "  <svg xmlns=\"http://www.w3.org/2000/svg\" height=\"24px\"viewBox=\"0 0 24 24\"\n",
              "       width=\"24px\">\n",
              "    <path d=\"M0 0h24v24H0V0z\" fill=\"none\"/>\n",
              "    <path d=\"M18.56 5.44l.94 2.06.94-2.06 2.06-.94-2.06-.94-.94-2.06-.94 2.06-2.06.94zm-11 1L8.5 8.5l.94-2.06 2.06-.94-2.06-.94L8.5 2.5l-.94 2.06-2.06.94zm10 10l.94 2.06.94-2.06 2.06-.94-2.06-.94-.94-2.06-.94 2.06-2.06.94z\"/><path d=\"M17.41 7.96l-1.37-1.37c-.4-.4-.92-.59-1.43-.59-.52 0-1.04.2-1.43.59L10.3 9.45l-7.72 7.72c-.78.78-.78 2.05 0 2.83L4 21.41c.39.39.9.59 1.41.59.51 0 1.02-.2 1.41-.59l7.78-7.78 2.81-2.81c.8-.78.8-2.07 0-2.86zM5.41 20L4 18.59l7.72-7.72 1.47 1.35L5.41 20z\"/>\n",
              "  </svg>\n",
              "      </button>\n",
              "      \n",
              "  <style>\n",
              "    .colab-df-container {\n",
              "      display:flex;\n",
              "      flex-wrap:wrap;\n",
              "      gap: 12px;\n",
              "    }\n",
              "\n",
              "    .colab-df-convert {\n",
              "      background-color: #E8F0FE;\n",
              "      border: none;\n",
              "      border-radius: 50%;\n",
              "      cursor: pointer;\n",
              "      display: none;\n",
              "      fill: #1967D2;\n",
              "      height: 32px;\n",
              "      padding: 0 0 0 0;\n",
              "      width: 32px;\n",
              "    }\n",
              "\n",
              "    .colab-df-convert:hover {\n",
              "      background-color: #E2EBFA;\n",
              "      box-shadow: 0px 1px 2px rgba(60, 64, 67, 0.3), 0px 1px 3px 1px rgba(60, 64, 67, 0.15);\n",
              "      fill: #174EA6;\n",
              "    }\n",
              "\n",
              "    [theme=dark] .colab-df-convert {\n",
              "      background-color: #3B4455;\n",
              "      fill: #D2E3FC;\n",
              "    }\n",
              "\n",
              "    [theme=dark] .colab-df-convert:hover {\n",
              "      background-color: #434B5C;\n",
              "      box-shadow: 0px 1px 3px 1px rgba(0, 0, 0, 0.15);\n",
              "      filter: drop-shadow(0px 1px 2px rgba(0, 0, 0, 0.3));\n",
              "      fill: #FFFFFF;\n",
              "    }\n",
              "  </style>\n",
              "\n",
              "      <script>\n",
              "        const buttonEl =\n",
              "          document.querySelector('#df-ad30e42f-520e-4a6e-9e1f-7f83378726db button.colab-df-convert');\n",
              "        buttonEl.style.display =\n",
              "          google.colab.kernel.accessAllowed ? 'block' : 'none';\n",
              "\n",
              "        async function convertToInteractive(key) {\n",
              "          const element = document.querySelector('#df-ad30e42f-520e-4a6e-9e1f-7f83378726db');\n",
              "          const dataTable =\n",
              "            await google.colab.kernel.invokeFunction('convertToInteractive',\n",
              "                                                     [key], {});\n",
              "          if (!dataTable) return;\n",
              "\n",
              "          const docLinkHtml = 'Like what you see? Visit the ' +\n",
              "            '<a target=\"_blank\" href=https://colab.research.google.com/notebooks/data_table.ipynb>data table notebook</a>'\n",
              "            + ' to learn more about interactive tables.';\n",
              "          element.innerHTML = '';\n",
              "          dataTable['output_type'] = 'display_data';\n",
              "          await google.colab.output.renderOutput(dataTable, element);\n",
              "          const docLink = document.createElement('div');\n",
              "          docLink.innerHTML = docLinkHtml;\n",
              "          element.appendChild(docLink);\n",
              "        }\n",
              "      </script>\n",
              "    </div>\n",
              "  </div>\n",
              "  "
            ]
          },
          "metadata": {},
          "execution_count": 17
        }
      ]
    },
    {
      "cell_type": "code",
      "source": [
        "# Plot previously saved activations from the 5 hidden layers\n",
        "# using different initialization schemes.\n",
        "fig = plt.figure(figsize=(12, 6))\n",
        "axes = grid_axes_it(len(sigmas), 1, fig=fig)\n",
        "for sig in sigmas:\n",
        "    ax = next(axes)\n",
        "    ddf = df[df['Standard Deviation'] == sig]\n",
        "    sns.violinplot(x='Hidden Layer', y='Output', data=ddf, ax=ax, scale='count', inner=None)\n",
        "\n",
        "    ax.set_xlabel('')\n",
        "    ax.set_ylabel('')\n",
        "\n",
        "    ax.set_title('Weights Drawn from $N(\\mu = 0, \\sigma = {%.2f})$' % sig, fontsize=13)\n",
        "\n",
        "    if sig == sigmas[1]:\n",
        "        ax.set_ylabel(\"ReLu Neuron Outputs\")\n",
        "    if sig != sigmas[-1]:\n",
        "        ax.set_xticklabels(())\n",
        "    else:\n",
        "        ax.set_xlabel(\"Hidden Layer\")\n",
        "\n",
        "plt.tight_layout()\n",
        "plt.show()"
      ],
      "metadata": {
        "id": "fIbgiUh0RRNt",
        "outputId": "94da63ed-0011-49eb-8f23-4e56e6c0bcef",
        "colab": {
          "base_uri": "https://localhost:8080/",
          "height": 441
        }
      },
      "execution_count": 18,
      "outputs": [
        {
          "output_type": "display_data",
          "data": {
            "text/plain": [
              "<Figure size 864x432 with 3 Axes>"
            ],
            "image/png": "[encoded data removed]"
          },
          "metadata": {
            "needs_background": "light"
          }
        }
      ]
    },
    {
      "cell_type": "code",
      "source": [
        ""
      ],
      "metadata": {
        "id": "o_UhMKCURYUX"
      },
      "execution_count": null,
      "outputs": []
    }
  ]
}